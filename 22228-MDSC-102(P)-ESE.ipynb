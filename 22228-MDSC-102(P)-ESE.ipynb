{
 "cells": [
  {
   "cell_type": "code",
   "execution_count": 2,
   "id": "f2661289",
   "metadata": {},
   "outputs": [],
   "source": [
    "import numpy as np"
   ]
  },
  {
   "cell_type": "markdown",
   "id": "3df3cca7",
   "metadata": {},
   "source": [
    "#### 1. How could you create a one-dimensional NumPy array of the numbers from 10 to 100, counting by 10?"
   ]
  },
  {
   "cell_type": "code",
   "execution_count": 3,
   "id": "4872708a",
   "metadata": {},
   "outputs": [
    {
     "data": {
      "text/plain": [
       "array([ 10.,  20.,  30.,  40.,  50.,  60.,  70.,  80.,  90., 100.])"
      ]
     },
     "execution_count": 3,
     "metadata": {},
     "output_type": "execute_result"
    }
   ],
   "source": [
    "x  = np.linspace(10,100,10)\n",
    "x"
   ]
  },
  {
   "cell_type": "markdown",
   "id": "7843fb54",
   "metadata": {},
   "source": [
    "#### 2. What is the data type for #4?"
   ]
  },
  {
   "cell_type": "code",
   "execution_count": 9,
   "id": "11de7365",
   "metadata": {},
   "outputs": [
    {
     "name": "stdout",
     "output_type": "stream",
     "text": [
      "Datatype for 4 is : <class 'int'>\n"
     ]
    }
   ],
   "source": [
    "x = 4\n",
    "print (\"Datatype for 4 is :\",type(x))"
   ]
  },
  {
   "cell_type": "markdown",
   "id": "deb711dd",
   "metadata": {},
   "source": [
    "#### 3. Given this code:"
   ]
  },
  {
   "cell_type": "code",
   "execution_count": 13,
   "id": "00e6910f",
   "metadata": {},
   "outputs": [
    {
     "name": "stdout",
     "output_type": "stream",
     "text": [
      "Shape of the x_array is :  (3, 4, 5)\n",
      "Dimension of the x_array is :  3\n"
     ]
    }
   ],
   "source": [
    "z_list = [z for z in range(0,5)]\n",
    "y_list = [z_list for y in range(0,4)]\n",
    "x_list = [y_list for x in range(0,3)]\n",
    "\n",
    "x_array = np.array(x_list)\n",
    "\n",
    "print(\"Shape of the x_array is : \",x_array.shape)\n",
    "print(\"Dimension of the x_array is : \",x_array.ndim)"
   ]
  },
  {
   "attachments": {
    "image.png": {
     "image/png": "[encoded data removed]"
    }
   },
   "cell_type": "markdown",
   "id": "0b9cba61",
   "metadata": {},
   "source": [
    "#### 4. Write a program to generate the following output?\n",
    "![image.png](attachment:image.png)"
   ]
  },
  {
   "cell_type": "code",
   "execution_count": 138,
   "id": "20e01d41",
   "metadata": {},
   "outputs": [
    {
     "data": {
      "text/plain": [
       "age            19\n",
       "gender          F\n",
       "job       student\n",
       "name        alice\n",
       "height      165.0\n",
       "dtype: object"
      ]
     },
     "execution_count": 138,
     "metadata": {},
     "output_type": "execute_result"
    }
   ],
   "source": [
    "import pandas as pd\n",
    "\n",
    "a = {'age':19,'gender':'F','job':'student','name':'alice','height':165.0}\n",
    "b = {'age':26,'gender':'M','job':'student','name':'john','height':180.0}\n",
    "c = {'age':22,'gender':'M','job':'student','name':'eric','height':175.0}\n",
    "d = {'age':58,'gender':'F','job':'manager','name':'paul','height':'NaN'}\n",
    "e = {'age':33,'gender':'M','job':'engineer','name':'peter','height':'NaN'}\n",
    "f = {'age':44,'gender':'F','job':'scientist','name':'julie','height':171.0}\n",
    "\n",
    "\n",
    "ser1 = pd.Series(data=a )\n",
    "\n",
    "\n",
    "ser1 \n",
    "\n"
   ]
  },
  {
   "cell_type": "code",
   "execution_count": 139,
   "id": "6904117d",
   "metadata": {},
   "outputs": [
    {
     "data": {
      "text/plain": [
       "age            26\n",
       "gender          M\n",
       "job       student\n",
       "name         john\n",
       "height      180.0\n",
       "dtype: object"
      ]
     },
     "execution_count": 139,
     "metadata": {},
     "output_type": "execute_result"
    }
   ],
   "source": [
    "ser2 = pd.Series(data=b )\n",
    "ser2"
   ]
  },
  {
   "cell_type": "code",
   "execution_count": 140,
   "id": "a50be822",
   "metadata": {},
   "outputs": [
    {
     "data": {
      "text/plain": [
       "age            22\n",
       "gender          M\n",
       "job       student\n",
       "name         eric\n",
       "height      175.0\n",
       "dtype: object"
      ]
     },
     "execution_count": 140,
     "metadata": {},
     "output_type": "execute_result"
    }
   ],
   "source": [
    "ser3 = pd.Series(data=c )\n",
    "ser3"
   ]
  },
  {
   "cell_type": "code",
   "execution_count": 137,
   "id": "25c0402c",
   "metadata": {},
   "outputs": [
    {
     "data": {
      "text/plain": [
       "age            58\n",
       "gender          F\n",
       "job       manager\n",
       "name         paul\n",
       "height        NaN\n",
       "dtype: object"
      ]
     },
     "execution_count": 137,
     "metadata": {},
     "output_type": "execute_result"
    }
   ],
   "source": [
    "ser4 = pd.Series(data=d)\n",
    "ser4"
   ]
  },
  {
   "cell_type": "code",
   "execution_count": 136,
   "id": "2c26065a",
   "metadata": {},
   "outputs": [
    {
     "data": {
      "text/plain": [
       "age             33\n",
       "gender           M\n",
       "job       engineer\n",
       "name         peter\n",
       "height         NaN\n",
       "dtype: object"
      ]
     },
     "execution_count": 136,
     "metadata": {},
     "output_type": "execute_result"
    }
   ],
   "source": [
    "ser5 = pd.Series(data=e )\n",
    "ser5"
   ]
  },
  {
   "cell_type": "code",
   "execution_count": 135,
   "id": "ba0865a9",
   "metadata": {},
   "outputs": [
    {
     "data": {
      "text/plain": [
       "age              44\n",
       "gender            F\n",
       "job       scientist\n",
       "name          julie\n",
       "height        171.0\n",
       "dtype: object"
      ]
     },
     "execution_count": 135,
     "metadata": {},
     "output_type": "execute_result"
    }
   ],
   "source": [
    "ser6 = pd.Series(data=f )\n",
    "ser6"
   ]
  },
  {
   "attachments": {
    "image.png": {
     "image/png": "[encoded data removed]"
    }
   },
   "cell_type": "markdown",
   "id": "22a3ce85",
   "metadata": {},
   "source": [
    "#### 5.For certain programs, the following is the output. What inferences you can make?\n",
    "![image.png](attachment:image.png)"
   ]
  },
  {
   "cell_type": "markdown",
   "id": "9a72381c",
   "metadata": {},
   "source": [
    "From the above box and wisker plot we can understand that the legend is whether the student is a managament background student or not the blue color represents yes and yellow no.\n",
    "In bachelor "
   ]
  },
  {
   "cell_type": "markdown",
   "id": "fdcfa328",
   "metadata": {},
   "source": [
    "#### 6.Write a program to test the hypothesis 𝐻0: 𝜇 = 1.75 vs 𝐻1: 𝜇 ≠ 1.75 based on the following observations:\n",
    "#### 1.83, 1.83, 1.73, 1.82, 1.83, 1.73, 1.99, 1.85, 1.68, 1.87\n"
   ]
  },
  {
   "cell_type": "code",
   "execution_count": 31,
   "id": "6a05ed5e",
   "metadata": {},
   "outputs": [
    {
     "name": "stdout",
     "output_type": "stream",
     "text": [
      "Length of the given array is :  10\n",
      "Mean :  1.816\n",
      "Mu0 :  1.75\n",
      "Standard Deviation :  0.08260750571225356\n",
      "Value of t is :  2.526529808297483\n"
     ]
    }
   ],
   "source": [
    "x = [1.83, 1.83, 1.73, 1.82, 1.83, 1.73, 1.99, 1.85, 1.68, 1.87]\n",
    "\n",
    "n = len(x)\n",
    "print(\"Length of the given array is : \",n)\n",
    "\n",
    "mean = np.mean(x)\n",
    "print(\"Mean : \",mean)\n",
    "\n",
    "mu0 = 1.75\n",
    "print(\"Mu0 : \",mu0)\n",
    "\n",
    "s = np.std(x)\n",
    "print(\"Standard Deviation : \", s)\n",
    "\n",
    "\n",
    "\n",
    "t = (mean-mu0)/(s/np.sqrt(n))\n",
    "\n",
    "print(\"Value of t is : \",t)"
   ]
  },
  {
   "attachments": {
    "image-2.png": {
     "image/png": "[encoded data removed]"
    }
   },
   "cell_type": "markdown",
   "id": "5d0d6d37",
   "metadata": {},
   "source": [
    "#### 7. Write a program to plot the following function:\n",
    "![image-2.png](attachment:image-2.png)"
   ]
  },
  {
   "cell_type": "code",
   "execution_count": 9,
   "id": "bd5810e6",
   "metadata": {},
   "outputs": [
    {
     "ename": "TypeError",
     "evalue": "<lambda>() missing 1 required positional argument: 'y'",
     "output_type": "error",
     "traceback": [
      "\u001b[1;31m---------------------------------------------------------------------------\u001b[0m",
      "\u001b[1;31mTypeError\u001b[0m                                 Traceback (most recent call last)",
      "Input \u001b[1;32mIn [9]\u001b[0m, in \u001b[0;36m<cell line: 8>\u001b[1;34m()\u001b[0m\n\u001b[0;32m      6\u001b[0m                 y\u001b[38;5;241m.\u001b[39mappend(f(x[i]))\n\u001b[0;32m      7\u001b[0m     plt\u001b[38;5;241m.\u001b[39mplot(x,y,color\u001b[38;5;241m=\u001b[39m\u001b[38;5;124m'\u001b[39m\u001b[38;5;124mg\u001b[39m\u001b[38;5;124m'\u001b[39m,marker \u001b[38;5;241m=\u001b[39m\u001b[38;5;124m\"\u001b[39m\u001b[38;5;124m*\u001b[39m\u001b[38;5;124m\"\u001b[39m)\n\u001b[1;32m----> 8\u001b[0m \u001b[43mfun\u001b[49m\u001b[43m(\u001b[49m\u001b[43m)\u001b[49m\n",
      "Input \u001b[1;32mIn [9]\u001b[0m, in \u001b[0;36mfun\u001b[1;34m()\u001b[0m\n\u001b[0;32m      4\u001b[0m y \u001b[38;5;241m=\u001b[39m []\n\u001b[0;32m      5\u001b[0m \u001b[38;5;28;01mfor\u001b[39;00m i \u001b[38;5;129;01min\u001b[39;00m \u001b[38;5;28mrange\u001b[39m(\u001b[38;5;28mlen\u001b[39m(x)):\n\u001b[1;32m----> 6\u001b[0m             y\u001b[38;5;241m.\u001b[39mappend(\u001b[43mf\u001b[49m\u001b[43m(\u001b[49m\u001b[43mx\u001b[49m\u001b[43m[\u001b[49m\u001b[43mi\u001b[49m\u001b[43m]\u001b[49m\u001b[43m)\u001b[49m)\n\u001b[0;32m      7\u001b[0m plt\u001b[38;5;241m.\u001b[39mplot(x,y,color\u001b[38;5;241m=\u001b[39m\u001b[38;5;124m'\u001b[39m\u001b[38;5;124mg\u001b[39m\u001b[38;5;124m'\u001b[39m,marker \u001b[38;5;241m=\u001b[39m\u001b[38;5;124m\"\u001b[39m\u001b[38;5;124m*\u001b[39m\u001b[38;5;124m\"\u001b[39m)\n",
      "\u001b[1;31mTypeError\u001b[0m: <lambda>() missing 1 required positional argument: 'y'"
     ]
    }
   ],
   "source": [
    "def fun():\n",
    "    x = np.linspace(2,10,100)\n",
    "    f = lambda x,y : (1+y)*x**y\n",
    "    y = []\n",
    "    for i in range(len(x)):\n",
    "                y.append(f(x[i]))\n",
    "    plt.plot(x,y,color='g',marker =\"*\")\n",
    "fun()"
   ]
  },
  {
   "cell_type": "code",
   "execution_count": 37,
   "id": "10cc3d61",
   "metadata": {},
   "outputs": [],
   "source": [
    "import pandas as pd"
   ]
  },
  {
   "cell_type": "code",
   "execution_count": 8,
   "id": "75aa3403",
   "metadata": {},
   "outputs": [
    {
     "data": {
      "text/plain": [
       "array([0.78812237, 0.02581792, 0.0622024 , 0.61641453, 0.60762394,\n",
       "       0.06855813, 0.04295532, 0.10581227, 0.53276889, 0.58796302,\n",
       "       0.35258739, 0.93621091, 0.10465082, 0.28200296, 0.57091072,\n",
       "       0.43887417, 0.33009812, 0.17720433, 0.31194808, 0.60868157,\n",
       "       0.80221448, 0.77965326, 0.58927275, 0.34363123, 0.64786502,\n",
       "       0.88667304, 0.47172996, 0.83037847, 0.0907691 , 0.27632866,\n",
       "       0.93768734, 0.38558684, 0.82816728, 0.41923632, 0.75471193,\n",
       "       0.45345349, 0.39634088, 0.99857669, 0.95526677, 0.53935131,\n",
       "       0.79197394, 0.18659699, 0.94309121, 0.28146084, 0.44892699,\n",
       "       0.42737808, 0.86849923, 0.17335032, 0.99717739, 0.17027482,\n",
       "       0.44498234, 0.55952571, 0.99795633, 0.39193715, 0.20271764,\n",
       "       0.52873749, 0.26465389, 0.34397217, 0.51991621, 0.84850048,\n",
       "       0.39303109, 0.33349084, 0.82365944, 0.03247135, 0.62787598,\n",
       "       0.95949015, 0.51546438, 0.20475273, 0.18979787, 0.83379173,\n",
       "       0.33306463, 0.41660493, 0.3372165 , 0.82814392, 0.65607356,\n",
       "       0.35948338, 0.94569619, 0.76963274, 0.03236079, 0.4770112 ,\n",
       "       0.33284434, 0.4492198 , 0.85412351, 0.48742672, 0.12580613,\n",
       "       0.87562847, 0.93221309, 0.79988082, 0.94887099, 0.3786083 ,\n",
       "       0.61746972, 0.0442616 , 0.77463262, 0.34382278, 0.89042384,\n",
       "       0.09663584, 0.02091704, 0.97714645, 0.67997507, 0.32423864])"
      ]
     },
     "execution_count": 8,
     "metadata": {},
     "output_type": "execute_result"
    }
   ],
   "source": [
    "x = np.random.rand(100)\n",
    "x\n",
    "\n",
    "# for i in range(0,1):\n",
    "#     x = []\n",
    "    \n"
   ]
  },
  {
   "cell_type": "code",
   "execution_count": null,
   "id": "00c886fc",
   "metadata": {},
   "outputs": [],
   "source": []
  },
  {
   "cell_type": "code",
   "execution_count": null,
   "id": "7db2a269",
   "metadata": {},
   "outputs": [],
   "source": []
  },
  {
   "cell_type": "markdown",
   "id": "87978280",
   "metadata": {},
   "source": [
    "#### 9. Generate pd.Series by using all the names of your classmates. Write a program to print the names containing at least 2 vowels from a series?\n"
   ]
  },
  {
   "cell_type": "code",
   "execution_count": 129,
   "id": "f5b855a9",
   "metadata": {},
   "outputs": [
    {
     "data": {
      "text/plain": [
       "Aditya        1\n",
       "Kumar         2\n",
       "Satya         3\n",
       "Vamsee        4\n",
       "Hemanth       5\n",
       "Lalith        6\n",
       "Pyla          7\n",
       "Mathura       8\n",
       "Saideva       9\n",
       "Varanasi     10\n",
       "Aharneish    11\n",
       "Anirudha     12\n",
       "SriHari      13\n",
       "Swaroop      14\n",
       "dtype: int64"
      ]
     },
     "execution_count": 129,
     "metadata": {},
     "output_type": "execute_result"
    }
   ],
   "source": [
    "x = {'Aditya':1,'Kumar':2,'Satya':3,'Vamsee':4,'Hemanth':5,'Lalith':6,\n",
    "              'Pyla':7,'Mathura':8,'Saideva':9,'Varanasi':10,'Aharneish':11,\n",
    "              'Anirudha':12,'SriHari':13,'Swaroop':14}\n",
    "ser = pd.Series(data = x )\n",
    "ser"
   ]
  },
  {
   "cell_type": "markdown",
   "id": "450288fd",
   "metadata": {},
   "source": [
    "#### 10."
   ]
  },
  {
   "cell_type": "code",
   "execution_count": 6,
   "id": "63377ec3",
   "metadata": {},
   "outputs": [
    {
     "name": "stdout",
     "output_type": "stream",
     "text": [
      "0.4990139300095212\n",
      "0.4870539300935855\n",
      "0.30568632384511363\n"
     ]
    }
   ],
   "source": [
    "x = np.random.rand(100)\n",
    "x\n",
    "\n",
    "a = np.mean(x)\n",
    "print(a)\n",
    "\n",
    "b = np.median(x)\n",
    "print(b)\n",
    "\n",
    "c = np.std(x)\n",
    "print(c)"
   ]
  }
 ],
 "metadata": {
  "kernelspec": {
   "display_name": "Python 3 (ipykernel)",
   "language": "python",
   "name": "python3"
  },
  "language_info": {
   "codemirror_mode": {
    "name": "ipython",
    "version": 3
   },
   "file_extension": ".py",
   "mimetype": "text/x-python",
   "name": "python",
   "nbconvert_exporter": "python",
   "pygments_lexer": "ipython3",
   "version": "3.9.13"
  }
 },
 "nbformat": 4,
 "nbformat_minor": 5
}
