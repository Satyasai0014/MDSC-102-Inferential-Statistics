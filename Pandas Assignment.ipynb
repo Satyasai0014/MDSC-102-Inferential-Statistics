{
 "cells": [
  {
   "cell_type": "markdown",
   "id": "3db42b96",
   "metadata": {},
   "source": [
    "# $$ Pandas -  Assignment $$ \n",
    "\n",
    "\n",
    "## $ Author : Akula Venkata Satya  Sai Gopinadh $"
   ]
  },
  {
   "cell_type": "markdown",
   "id": "db3baf0c",
   "metadata": {},
   "source": [
    "### $ Important Points $\n",
    "\n",
    "##### 1.For Version Checking -------   'pd.version'\n",
    "##### 2.For Seeing Versions -------    'pd.show_versions(as_json=True)'\n",
    "##### 3.Creating Series -------     'pd.Series(##)'\n",
    "##### 4.Converting Index of a Series into a Column in the Data Frame --------     'dataframe = series.to_frame().reset_index()'\n",
    "##### 5.Combining Many Series to form a Dataframe --------     'df = pd.concat([series1, series2], axis=1)'\n",
    "\n",
    "##### np.random.randint(1, 10, 35)\n",
    "##### series_union = pd.Series(np.union1d(series1, series2))  # union\n",
    "##### series_intersection = pd.Series(np.intersect1d(series1, series2))  # intersect\n",
    "##### series_union[~series_union.isin(series_intersection)]\n",
    "##### ser.value_counts()\n",
    "##### ser.values.reshape(7,5)"
   ]
  },
  {
   "cell_type": "code",
   "execution_count": 1,
   "id": "3e0378b8",
   "metadata": {},
   "outputs": [],
   "source": [
    "import numpy as np\n"
   ]
  },
  {
   "cell_type": "markdown",
   "id": "58072fc3",
   "metadata": {},
   "source": [
    "### 1. How to import pandas and check the version?"
   ]
  },
  {
   "cell_type": "code",
   "execution_count": 2,
   "id": "b2c8a62c",
   "metadata": {},
   "outputs": [
    {
     "data": {
      "text/plain": [
       "'1.4.3'"
      ]
     },
     "execution_count": 2,
     "metadata": {},
     "output_type": "execute_result"
    }
   ],
   "source": [
    "import pandas as pd \n",
    "\n",
    "pd.__version__"
   ]
  },
  {
   "cell_type": "code",
   "execution_count": 3,
   "id": "05c7e66b",
   "metadata": {},
   "outputs": [
    {
     "name": "stdout",
     "output_type": "stream",
     "text": [
      "{\n",
      "  \"system\": {\n",
      "    \"commit\": \"e8093ba372f9adfe79439d90fe74b0b5b6dea9d6\",\n",
      "    \"python\": \"3.9.13.final.0\",\n",
      "    \"python-bits\": 64,\n",
      "    \"OS\": \"Windows\",\n",
      "    \"OS-release\": \"10\",\n",
      "    \"Version\": \"10.0.19044\",\n",
      "    \"machine\": \"AMD64\",\n",
      "    \"processor\": \"Intel64 Family 6 Model 23 Stepping 10, GenuineIntel\",\n",
      "    \"byteorder\": \"little\",\n",
      "    \"LC_ALL\": null,\n",
      "    \"LANG\": null,\n",
      "    \"LOCALE\": {\n",
      "      \"language-code\": \"English_United States\",\n",
      "      \"encoding\": \"1252\"\n",
      "    }\n",
      "  },\n",
      "  \"dependencies\": {\n",
      "    \"pandas\": \"1.4.3\",\n",
      "    \"numpy\": \"1.23.1\",\n",
      "    \"pytz\": \"2022.1\",\n",
      "    \"dateutil\": \"2.8.2\",\n",
      "    \"setuptools\": \"58.1.0\",\n",
      "    \"pip\": \"22.3\",\n",
      "    \"Cython\": null,\n",
      "    \"pytest\": null,\n",
      "    \"hypothesis\": null,\n",
      "    \"sphinx\": null,\n",
      "    \"blosc\": null,\n",
      "    \"feather\": null,\n",
      "    \"xlsxwriter\": null,\n",
      "    \"lxml.etree\": null,\n",
      "    \"html5lib\": null,\n",
      "    \"pymysql\": null,\n",
      "    \"psycopg2\": null,\n",
      "    \"jinja2\": \"3.1.2\",\n",
      "    \"IPython\": \"8.4.0\",\n",
      "    \"pandas_datareader\": null,\n",
      "    \"bs4\": \"4.11.1\",\n",
      "    \"bottleneck\": null,\n",
      "    \"brotli\": null,\n",
      "    \"fastparquet\": null,\n",
      "    \"fsspec\": null,\n",
      "    \"gcsfs\": null,\n",
      "    \"markupsafe\": \"2.1.1\",\n",
      "    \"matplotlib\": \"3.5.2\",\n",
      "    \"numba\": null,\n",
      "    \"numexpr\": null,\n",
      "    \"odfpy\": null,\n",
      "    \"openpyxl\": null,\n",
      "    \"pandas_gbq\": null,\n",
      "    \"pyarrow\": null,\n",
      "    \"pyreadstat\": null,\n",
      "    \"pyxlsb\": null,\n",
      "    \"s3fs\": null,\n",
      "    \"scipy\": \"1.8.1\",\n",
      "    \"snappy\": null,\n",
      "    \"sqlalchemy\": null,\n",
      "    \"tables\": null,\n",
      "    \"tabulate\": null,\n",
      "    \"xarray\": null,\n",
      "    \"xlrd\": null,\n",
      "    \"xlwt\": null,\n",
      "    \"zstandard\": null\n",
      "  }\n",
      "}"
     ]
    }
   ],
   "source": [
    "pd.show_versions(as_json=True)"
   ]
  },
  {
   "cell_type": "markdown",
   "id": "4ec04cc0",
   "metadata": {},
   "source": [
    "### 2. How to create a series from a list, numpy array and dict?"
   ]
  },
  {
   "cell_type": "code",
   "execution_count": 4,
   "id": "c824fe7b",
   "metadata": {},
   "outputs": [
    {
     "name": "stdout",
     "output_type": "stream",
     "text": [
      "S    5\n",
      "a    6\n",
      "t    2\n",
      "y    3\n",
      "i    7\n",
      "dtype: int32\n",
      "<class 'pandas.core.series.Series'>\n",
      "Index: 5 entries, S to i\n",
      "Series name: None\n",
      "Non-Null Count  Dtype\n",
      "--------------  -----\n",
      "5 non-null      int32\n",
      "dtypes: int32(1)\n",
      "memory usage: 60.0+ bytes\n",
      "None\n"
     ]
    }
   ],
   "source": [
    "# List\n",
    "\n",
    "list1 = list('SatyaSai')\n",
    "\n",
    "# Array\n",
    "\n",
    "array = np.arange(8)\n",
    "\n",
    "# Dictionary\n",
    "\n",
    "dict1 = dict(zip(list1, array))\n",
    "\n",
    "\n",
    "# Creating Series from the above list,array and dict\n",
    "\n",
    "series1 = pd.Series(list1)\n",
    "\n",
    "\n",
    "series2 = pd.Series(array)\n",
    "\n",
    "\n",
    "series3 = pd.Series(dict1)\n",
    "\n",
    "print(series3.head(10))\n",
    "\n",
    "print(series3.info())\n"
   ]
  },
  {
   "cell_type": "markdown",
   "id": "940794f5",
   "metadata": {},
   "source": [
    " ### 3. How to convert the index of a series into a column of a dataframe?"
   ]
  },
  {
   "cell_type": "code",
   "execution_count": 5,
   "id": "1ef7ecb2",
   "metadata": {},
   "outputs": [
    {
     "name": "stdout",
     "output_type": "stream",
     "text": [
      "  index  0\n",
      "0     S  5\n",
      "1     a  6\n",
      "2     t  2\n",
      "3     y  3\n",
      "4     i  7\n"
     ]
    }
   ],
   "source": [
    "# List\n",
    "\n",
    "list1 = list('SatyaSai')\n",
    "\n",
    "# Array\n",
    "\n",
    "array = np.arange(8)\n",
    "\n",
    "# Dictionary\n",
    "\n",
    "dict1 = dict(zip(list1, array))\n",
    "\n",
    "\n",
    "series  = pd.Series(dict1)\n",
    "\n",
    "dataframe = series.to_frame().reset_index()\n",
    "\n",
    "print(dataframe.head())"
   ]
  },
  {
   "cell_type": "markdown",
   "id": "195bff45",
   "metadata": {},
   "source": [
    "### 4. How to combine many series to form a dataframe?"
   ]
  },
  {
   "cell_type": "code",
   "execution_count": 6,
   "id": "0bbae5eb",
   "metadata": {},
   "outputs": [
    {
     "name": "stdout",
     "output_type": "stream",
     "text": [
      "   0    1\n",
      "0  v  0.0\n",
      "1  e  1.0\n",
      "2  n  2.0\n",
      "3  k  3.0\n",
      "4  a  4.0\n"
     ]
    }
   ],
   "source": [
    "series1 = pd.Series(list('venkatasatya'))\n",
    "\n",
    "series2 = pd.Series(np.arange(9))\n",
    "\n",
    "df = pd.concat([series1, series2], axis=1)\n",
    "\n",
    "print(df.head())"
   ]
  },
  {
   "cell_type": "markdown",
   "id": "d6c4da4a",
   "metadata": {},
   "source": [
    "### 5. How to assign name to the series’ index?"
   ]
  },
  {
   "cell_type": "code",
   "execution_count": 7,
   "id": "7b372953",
   "metadata": {},
   "outputs": [
    {
     "data": {
      "text/plain": [
       "0    V\n",
       "1    e\n",
       "2    n\n",
       "3    k\n",
       "4    a\n",
       "5    t\n",
       "6    s\n",
       "7    g\n",
       "8    n\n",
       "Name: Myname, dtype: object"
      ]
     },
     "execution_count": 7,
     "metadata": {},
     "output_type": "execute_result"
    }
   ],
   "source": [
    "ser1 = pd.Series(list('Venkatsgn'))\n",
    "\n",
    "ser1.name = 'Myname'\n",
    "\n",
    "ser1.head(10)"
   ]
  },
  {
   "cell_type": "markdown",
   "id": "1a9db0dc",
   "metadata": {},
   "source": [
    "### 6. How to get the items of series A not present in series B?"
   ]
  },
  {
   "cell_type": "code",
   "execution_count": 8,
   "id": "6ec0d8a1",
   "metadata": {},
   "outputs": [
    {
     "name": "stdout",
     "output_type": "stream",
     "text": [
      "1\n",
      "2\n",
      "3\n",
      "4\n",
      "8\n",
      "9\n"
     ]
    }
   ],
   "source": [
    "ser1 = pd.Series([1,2,3,4,8,9])\n",
    "\n",
    "ser2 = pd.Series([1,7,10,45,2,9])\n",
    "\n",
    "for i in range(len(ser1)):\n",
    "    for j in range(len(ser2)):\n",
    "        if ser1[i] == ser2[j]:\n",
    "            continue\n",
    "    else: \n",
    "        print(ser1[i])\n",
    "    "
   ]
  },
  {
   "cell_type": "markdown",
   "id": "41f14a7d",
   "metadata": {},
   "source": [
    "### 7. How to get the items not common to both series A and series B?"
   ]
  },
  {
   "cell_type": "code",
   "execution_count": 9,
   "id": "7c18cdd7",
   "metadata": {},
   "outputs": [
    {
     "data": {
      "text/plain": [
       "2     3\n",
       "3     4\n",
       "4     7\n",
       "5     8\n",
       "7    10\n",
       "8    45\n",
       "dtype: int64"
      ]
     },
     "execution_count": 9,
     "metadata": {},
     "output_type": "execute_result"
    }
   ],
   "source": [
    "\"\"\"ser1 = pd.Series([1,2,3,4,8,9])\n",
    "\n",
    "ser2 = pd.Series([1,7,10,45,2,9])\n",
    "\n",
    "for i in range(len(ser1)):\n",
    "    for j in range(len(ser2)):\n",
    "        if ser1[i] == ser2[i]:\n",
    "            continue\n",
    "            print[i]\n",
    "    else: \n",
    "        break\n",
    "\"\"\"\n",
    "series1 = pd.Series([1,2,3,4,8,9])\n",
    "\n",
    "series2 = pd.Series([1,7,10,45,2,9])\n",
    "\n",
    "series_union = pd.Series(np.union1d(series1, series2))  # union\n",
    "series_intersection = pd.Series(np.intersect1d(series1, series2))  # intersect\n",
    "series_union[~series_union.isin(series_intersection)]"
   ]
  },
  {
   "cell_type": "markdown",
   "id": "758efb1c",
   "metadata": {},
   "source": [
    "### 8. How to get frequency counts of unique items of a series?"
   ]
  },
  {
   "cell_type": "code",
   "execution_count": 10,
   "id": "d203dd19",
   "metadata": {},
   "outputs": [
    {
     "data": {
      "text/plain": [
       "a    22\n",
       "y    11\n",
       "S     9\n",
       "t     8\n",
       "dtype: int64"
      ]
     },
     "execution_count": 10,
     "metadata": {},
     "output_type": "execute_result"
    }
   ],
   "source": [
    "ser = pd.Series(np.take(list('Satya'), np.random.randint(5, size=50)))\n",
    "\n",
    "ser.value_counts()"
   ]
  },
  {
   "cell_type": "markdown",
   "id": "b28d95d4",
   "metadata": {},
   "source": [
    "### 9. How to convert a numpy array to a dataframe of given shape?"
   ]
  },
  {
   "cell_type": "code",
   "execution_count": 11,
   "id": "7d660c77",
   "metadata": {},
   "outputs": [
    {
     "data": {
      "text/html": [
       "<div>\n",
       "<style scoped>\n",
       "    .dataframe tbody tr th:only-of-type {\n",
       "        vertical-align: middle;\n",
       "    }\n",
       "\n",
       "    .dataframe tbody tr th {\n",
       "        vertical-align: top;\n",
       "    }\n",
       "\n",
       "    .dataframe thead th {\n",
       "        text-align: right;\n",
       "    }\n",
       "</style>\n",
       "<table border=\"1\" class=\"dataframe\">\n",
       "  <thead>\n",
       "    <tr style=\"text-align: right;\">\n",
       "      <th></th>\n",
       "      <th>0</th>\n",
       "      <th>1</th>\n",
       "      <th>2</th>\n",
       "      <th>3</th>\n",
       "      <th>4</th>\n",
       "    </tr>\n",
       "  </thead>\n",
       "  <tbody>\n",
       "    <tr>\n",
       "      <th>0</th>\n",
       "      <td>1</td>\n",
       "      <td>4</td>\n",
       "      <td>4</td>\n",
       "      <td>6</td>\n",
       "      <td>5</td>\n",
       "    </tr>\n",
       "    <tr>\n",
       "      <th>1</th>\n",
       "      <td>4</td>\n",
       "      <td>4</td>\n",
       "      <td>6</td>\n",
       "      <td>8</td>\n",
       "      <td>7</td>\n",
       "    </tr>\n",
       "    <tr>\n",
       "      <th>2</th>\n",
       "      <td>7</td>\n",
       "      <td>6</td>\n",
       "      <td>5</td>\n",
       "      <td>4</td>\n",
       "      <td>6</td>\n",
       "    </tr>\n",
       "    <tr>\n",
       "      <th>3</th>\n",
       "      <td>8</td>\n",
       "      <td>5</td>\n",
       "      <td>6</td>\n",
       "      <td>8</td>\n",
       "      <td>6</td>\n",
       "    </tr>\n",
       "    <tr>\n",
       "      <th>4</th>\n",
       "      <td>5</td>\n",
       "      <td>7</td>\n",
       "      <td>7</td>\n",
       "      <td>7</td>\n",
       "      <td>3</td>\n",
       "    </tr>\n",
       "    <tr>\n",
       "      <th>5</th>\n",
       "      <td>3</td>\n",
       "      <td>3</td>\n",
       "      <td>9</td>\n",
       "      <td>9</td>\n",
       "      <td>4</td>\n",
       "    </tr>\n",
       "    <tr>\n",
       "      <th>6</th>\n",
       "      <td>3</td>\n",
       "      <td>2</td>\n",
       "      <td>7</td>\n",
       "      <td>6</td>\n",
       "      <td>4</td>\n",
       "    </tr>\n",
       "  </tbody>\n",
       "</table>\n",
       "</div>"
      ],
      "text/plain": [
       "   0  1  2  3  4\n",
       "0  1  4  4  6  5\n",
       "1  4  4  6  8  7\n",
       "2  7  6  5  4  6\n",
       "3  8  5  6  8  6\n",
       "4  5  7  7  7  3\n",
       "5  3  3  9  9  4\n",
       "6  3  2  7  6  4"
      ]
     },
     "execution_count": 11,
     "metadata": {},
     "output_type": "execute_result"
    }
   ],
   "source": [
    "ser = pd.Series(np.random.randint(1, 10, 35))\n",
    "\n",
    "df = pd.DataFrame(ser.values.reshape(7,5))\n",
    "\n",
    "df"
   ]
  },
  {
   "cell_type": "code",
   "execution_count": 12,
   "id": "2617f41b",
   "metadata": {},
   "outputs": [
    {
     "name": "stdout",
     "output_type": "stream",
     "text": [
      "    0   1   2\n",
      "0  11  22  33\n",
      "1  35  25  55\n"
     ]
    }
   ],
   "source": [
    "array = np.array([[11, 22, 33], \n",
    "                  [35, 25, 55]])\n",
    "\n",
    "temp = pd.DataFrame(array)\n",
    "\n",
    "\n",
    "print(temp)"
   ]
  },
  {
   "cell_type": "markdown",
   "id": "51b9b97f",
   "metadata": {},
   "source": [
    "### 10. How to extract items at given positions from a series?\n"
   ]
  },
  {
   "cell_type": "code",
   "execution_count": null,
   "id": "3fa00dc0",
   "metadata": {},
   "outputs": [],
   "source": []
  },
  {
   "cell_type": "code",
   "execution_count": 13,
   "id": "7d21cd5d",
   "metadata": {},
   "outputs": [
    {
     "data": {
      "text/plain": [
       "0     a\n",
       "4     e\n",
       "8     i\n",
       "14    o\n",
       "20    u\n",
       "dtype: object"
      ]
     },
     "execution_count": 13,
     "metadata": {},
     "output_type": "execute_result"
    }
   ],
   "source": [
    "ser = pd.Series(list('abcdefghijklmnopqrstuvwxyz'))\n",
    "pos = [0, 4, 8, 14, 20]\n",
    "\n",
    "ser.take(pos)"
   ]
  },
  {
   "cell_type": "markdown",
   "id": "39a7ffe1",
   "metadata": {},
   "source": [
    "### 11. How to stack two series vertically and horizontally ?"
   ]
  },
  {
   "cell_type": "code",
   "execution_count": 14,
   "id": "abccb4b3",
   "metadata": {},
   "outputs": [
    {
     "name": "stdout",
     "output_type": "stream",
     "text": [
      "vertical Stack\n",
      "0    S\n",
      "1    a\n",
      "2    t\n",
      "3    y\n",
      "4    a\n",
      "5    S\n",
      "6    a\n",
      "7    i\n",
      "0    1\n",
      "1    2\n",
      "2    3\n",
      "3    4\n",
      "4    5\n",
      "5    6\n",
      "6    7\n",
      "7    8\n",
      "dtype: object\n",
      "Horizontal stack\n",
      "   0  1\n",
      "0  S  1\n",
      "1  a  2\n",
      "2  t  3\n",
      "3  y  4\n",
      "4  a  5\n",
      "5  S  6\n",
      "6  a  7\n",
      "7  i  8\n"
     ]
    }
   ],
   "source": [
    "a = pd.Series(['S','a','t','y','a','S','a','i'])\n",
    "b = pd.Series([1,2,3,4,5,6,7,8])\n",
    "\n",
    "print('vertical Stack')\n",
    "print(pd.concat([a,b],axis = 0))\n",
    "\n",
    "\n",
    "print('Horizontal stack')\n",
    "print(pd.concat([a,b],axis = 1))\n"
   ]
  },
  {
   "cell_type": "markdown",
   "id": "b9ad877b",
   "metadata": {},
   "source": [
    "### 12. How to compute difference of differences between consequtive numbers of a series?"
   ]
  },
  {
   "cell_type": "code",
   "execution_count": 15,
   "id": "83fe03e9",
   "metadata": {},
   "outputs": [
    {
     "name": "stdout",
     "output_type": "stream",
     "text": [
      "[nan, 2.0, 3.0, 4.0, 5.0, 6.0, 6.0, 8.0]\n",
      "[nan, nan, 1.0, 1.0, 1.0, 1.0, 0.0, 2.0]\n"
     ]
    }
   ],
   "source": [
    "\n",
    "ser = pd.Series([1, 3, 6, 10, 15, 21, 27, 35])\n",
    "\n",
    "\n",
    "print(ser.diff().tolist())\n",
    "print(ser.diff().diff().tolist())"
   ]
  },
  {
   "cell_type": "markdown",
   "id": "170ffb35",
   "metadata": {},
   "source": [
    "### 13.How to import only specified columns from a csv file?"
   ]
  },
  {
   "cell_type": "code",
   "execution_count": 18,
   "id": "a3be4f9f",
   "metadata": {},
   "outputs": [
    {
     "name": "stdout",
     "output_type": "stream",
     "text": [
      "   Year  District Code District Name  Neighborhood Code  \\\n",
      "0  2017              1  Ciutat Vella                  1   \n",
      "1  2017              1  Ciutat Vella                  2   \n",
      "2  2017              1  Ciutat Vella                  3   \n",
      "3  2017              1  Ciutat Vella                  4   \n",
      "4  2017              2      Eixample                  5   \n",
      "5  2017              2      Eixample                  6   \n",
      "6  2017              2      Eixample                  7   \n",
      "7  2017              2      Eixample                  8   \n",
      "8  2017              2      Eixample                  9   \n",
      "9  2017              2      Eixample                 10   \n",
      "\n",
      "                       Neighborhood Name Gender  Number  \n",
      "0                               el Raval   Boys     283  \n",
      "1                         el Barri Gòtic   Boys      56  \n",
      "2                         la Barceloneta   Boys      51  \n",
      "3  Sant Pere, Santa Caterina i la Ribera   Boys      90  \n",
      "4                          el Fort Pienc   Boys     117  \n",
      "5                     la Sagrada Família   Boys     207  \n",
      "6                 la Dreta de l'Eixample   Boys     185  \n",
      "7        l'Antiga Esquerra de l'Eixample   Boys     176  \n",
      "8         la Nova Esquerra de l'Eixample   Boys     218  \n",
      "9                            Sant Antoni   Boys     172  \n"
     ]
    }
   ],
   "source": [
    "df = pd.read_csv('./births.csv')\n",
    "\n",
    "df.loc[:,[\"Gender\",\"Number\"]]\n",
    "\n",
    "print(df.head(10))"
   ]
  },
  {
   "cell_type": "markdown",
   "id": "94bc1fe8",
   "metadata": {},
   "source": [
    "### 14. How to keep only top 2 most frequent values as it is and replace everything else as ‘Other’?"
   ]
  },
  {
   "cell_type": "code",
   "execution_count": 19,
   "id": "fad57243",
   "metadata": {},
   "outputs": [
    {
     "name": "stdout",
     "output_type": "stream",
     "text": [
      "0         1\n",
      "1         2\n",
      "2     other\n",
      "3         1\n",
      "4         1\n",
      "5     other\n",
      "6         2\n",
      "7     other\n",
      "8     other\n",
      "9         2\n",
      "10    other\n",
      "11    other\n",
      "12        1\n",
      "13    other\n",
      "14    other\n",
      "15    other\n",
      "16        1\n",
      "dtype: object\n"
     ]
    }
   ],
   "source": [
    "series = pd.Series([1,2,3,1,1,4,2,9,8,2,6,5,1,4,8,7,1])\n",
    "  \n",
    "freq = series.value_counts()\n",
    "  \n",
    "series[~series.isin(freq .index[:2])] = 'other'\n",
    "print(series)"
   ]
  },
  {
   "cell_type": "markdown",
   "id": "be360987",
   "metadata": {},
   "source": [
    "### 15. How to get the minimum, 25th percentile, median, 75th, and max of a numeric series?"
   ]
  },
  {
   "cell_type": "code",
   "execution_count": 20,
   "id": "10009083",
   "metadata": {},
   "outputs": [
    {
     "data": {
      "text/plain": [
       "array([-6.4594609 ,  6.2463693 ,  8.57890491, 11.02034932, 14.65168241])"
      ]
     },
     "execution_count": 20,
     "metadata": {},
     "output_type": "execute_result"
    }
   ],
   "source": [
    "state = np.random.RandomState(800)\n",
    "a = pd.Series(state.normal(10, 5, 25))\n",
    "\n",
    "\n",
    "np.percentile(a, q=[0, 25, 50, 75, 100])"
   ]
  },
  {
   "cell_type": "markdown",
   "id": "397daab6",
   "metadata": {},
   "source": [
    "### 16. How to get frequency counts of unique items of a series?"
   ]
  },
  {
   "cell_type": "code",
   "execution_count": 21,
   "id": "c40d373e",
   "metadata": {},
   "outputs": [
    {
     "name": "stdout",
     "output_type": "stream",
     "text": [
      "0     1\n",
      "1     2\n",
      "2     3\n",
      "3     1\n",
      "4     5\n",
      "5     4\n",
      "6     2\n",
      "7     9\n",
      "8     8\n",
      "9     7\n",
      "10    6\n",
      "11    5\n",
      "dtype: int64\n",
      "1    2\n",
      "2    2\n",
      "5    2\n",
      "3    1\n",
      "4    1\n",
      "9    1\n",
      "8    1\n",
      "7    1\n",
      "6    1\n",
      "dtype: int64\n"
     ]
    }
   ],
   "source": [
    "a = pd.Series([1,2,3,1,5,4,2,9,8,7,6,5])\n",
    " \n",
    "print(a)\n",
    "print(a.value_counts())"
   ]
  },
  {
   "cell_type": "markdown",
   "id": "6763c5c5",
   "metadata": {},
   "source": [
    "### 17. How to get the positions of items of series A in another series B?"
   ]
  },
  {
   "cell_type": "code",
   "execution_count": 22,
   "id": "6d40c396",
   "metadata": {},
   "outputs": [
    {
     "name": "stdout",
     "output_type": "stream",
     "text": [
      "Positions of items of b in a:\n"
     ]
    },
    {
     "data": {
      "text/plain": [
       "[array([ True, False, False,  True, False, False, False, False, False,\n",
       "        False, False, False]),\n",
       " 2,\n",
       " array([False, False, False, False,  True, False, False, False, False,\n",
       "        False, False,  True]),\n",
       " 9,\n",
       " 7]"
      ]
     },
     "execution_count": 22,
     "metadata": {},
     "output_type": "execute_result"
    }
   ],
   "source": [
    "a = pd.Series([1,2,3,1,5,4,2,9,8,7,6,5])\n",
    "b = pd.Series([1,3,5,7,9])\n",
    "\n",
    "print(\"Positions of items of b in a:\")\n",
    "[pd.Index(a).get_loc(i) for i in b]"
   ]
  },
  {
   "cell_type": "markdown",
   "id": "f60f0a1b",
   "metadata": {},
   "source": [
    "### 18. How to compute the mean squared error on a truth and predicted series?"
   ]
  },
  {
   "cell_type": "code",
   "execution_count": 23,
   "id": "3c69777b",
   "metadata": {},
   "outputs": [
    {
     "data": {
      "text/plain": [
       "0.15305963988889443"
      ]
     },
     "execution_count": 23,
     "metadata": {},
     "output_type": "execute_result"
    }
   ],
   "source": [
    "truth = pd.Series(range(10))\n",
    "pred = pd.Series(range(10) + np.random.random(10))\n",
    "\n",
    "np.mean((truth-pred)**2)"
   ]
  },
  {
   "cell_type": "markdown",
   "id": "ca44351e",
   "metadata": {},
   "source": [
    "### 19. How to calculate the number of characters in each word in a series?"
   ]
  },
  {
   "cell_type": "code",
   "execution_count": 24,
   "id": "7f5901bf",
   "metadata": {},
   "outputs": [
    {
     "data": {
      "text/plain": [
       "0     5\n",
       "1     6\n",
       "2    10\n",
       "dtype: int64"
      ]
     },
     "execution_count": 24,
     "metadata": {},
     "output_type": "execute_result"
    }
   ],
   "source": [
    "x = pd.Series(['Satya','Pandas','Matplotlib'])\n",
    "\n",
    "x.map(lambda x: len(x))"
   ]
  },
  {
   "cell_type": "markdown",
   "id": "2d50adb9",
   "metadata": {},
   "source": [
    "### 20. How to convert the first character of each element in a series to uppercase?"
   ]
  },
  {
   "cell_type": "code",
   "execution_count": 25,
   "id": "379efe2e",
   "metadata": {},
   "outputs": [
    {
     "data": {
      "text/plain": [
       "0     Satya\n",
       "1    Wishes\n",
       "2       You\n",
       "3     Happy\n",
       "4    Diwali\n",
       "dtype: object"
      ]
     },
     "execution_count": 25,
     "metadata": {},
     "output_type": "execute_result"
    }
   ],
   "source": [
    "a = pd.Series(['Satya','Wishes','you','Happy','Diwali'])\n",
    "\n",
    "a.map(lambda x: x.title())\n",
    "a.map(lambda x: x[0].upper() + x[1:])\n",
    "pd.Series([i.title() for i in a])"
   ]
  },
  {
   "cell_type": "markdown",
   "id": "f9078bd5",
   "metadata": {},
   "source": [
    "### 21. How to compute the euclidean distance between two series?"
   ]
  },
  {
   "cell_type": "code",
   "execution_count": 26,
   "id": "0f4b588d",
   "metadata": {},
   "outputs": [
    {
     "data": {
      "text/plain": [
       "31.622776601683793"
      ]
     },
     "execution_count": 26,
     "metadata": {},
     "output_type": "execute_result"
    }
   ],
   "source": [
    "p = pd.Series([1, 2, 3, 4, 5, 6, 7, 8, 9, 10])\n",
    "q = pd.Series([11,12,13,14,15,16,17,18,19,20])\n",
    "\n",
    "sum((p - q)**2)**.5"
   ]
  },
  {
   "cell_type": "markdown",
   "id": "d3812c7d",
   "metadata": {},
   "source": [
    "### 22. How to import only every nth row from a csv file to create a dataframe?"
   ]
  },
  {
   "cell_type": "code",
   "execution_count": 27,
   "id": "6ddc70ce",
   "metadata": {},
   "outputs": [
    {
     "data": {
      "text/html": [
       "<div>\n",
       "<style scoped>\n",
       "    .dataframe tbody tr th:only-of-type {\n",
       "        vertical-align: middle;\n",
       "    }\n",
       "\n",
       "    .dataframe tbody tr th {\n",
       "        vertical-align: top;\n",
       "    }\n",
       "\n",
       "    .dataframe thead th {\n",
       "        text-align: right;\n",
       "    }\n",
       "</style>\n",
       "<table border=\"1\" class=\"dataframe\">\n",
       "  <thead>\n",
       "    <tr style=\"text-align: right;\">\n",
       "      <th></th>\n",
       "      <th>Id</th>\n",
       "      <th>District Name</th>\n",
       "      <th>Neighborhood Name</th>\n",
       "      <th>Street</th>\n",
       "      <th>Weekday</th>\n",
       "      <th>Month</th>\n",
       "      <th>Day</th>\n",
       "      <th>Hour</th>\n",
       "      <th>Part of the day</th>\n",
       "      <th>Mild injuries</th>\n",
       "      <th>Serious injuries</th>\n",
       "      <th>Victims</th>\n",
       "      <th>Vehicles involved</th>\n",
       "      <th>Longitude</th>\n",
       "      <th>Latitude</th>\n",
       "    </tr>\n",
       "  </thead>\n",
       "  <tbody>\n",
       "    <tr>\n",
       "      <th>0</th>\n",
       "      <td>2017S008429</td>\n",
       "      <td>Unknown</td>\n",
       "      <td>Unknown</td>\n",
       "      <td>Número 27                                     ...</td>\n",
       "      <td>Friday</td>\n",
       "      <td>October</td>\n",
       "      <td>13</td>\n",
       "      <td>8</td>\n",
       "      <td>Morning</td>\n",
       "      <td>2</td>\n",
       "      <td>0</td>\n",
       "      <td>2</td>\n",
       "      <td>2</td>\n",
       "      <td>2.125624</td>\n",
       "      <td>41.340045</td>\n",
       "    </tr>\n",
       "    <tr>\n",
       "      <th>50</th>\n",
       "      <td>2017S000869</td>\n",
       "      <td>Sant Martí</td>\n",
       "      <td>el Camp de l'Arpa del Clot</td>\n",
       "      <td>AV MERIDIANA                                  ...</td>\n",
       "      <td>Wednesday</td>\n",
       "      <td>February</td>\n",
       "      <td>1</td>\n",
       "      <td>18</td>\n",
       "      <td>Afternoon</td>\n",
       "      <td>1</td>\n",
       "      <td>0</td>\n",
       "      <td>1</td>\n",
       "      <td>2</td>\n",
       "      <td>2.186557</td>\n",
       "      <td>41.409004</td>\n",
       "    </tr>\n",
       "    <tr>\n",
       "      <th>100</th>\n",
       "      <td>2017S005878</td>\n",
       "      <td>Sant Martí</td>\n",
       "      <td>Provençals del Poblenou</td>\n",
       "      <td>Corts Catalanes / Selva de Mar                ...</td>\n",
       "      <td>Wednesday</td>\n",
       "      <td>July</td>\n",
       "      <td>5</td>\n",
       "      <td>16</td>\n",
       "      <td>Afternoon</td>\n",
       "      <td>0</td>\n",
       "      <td>0</td>\n",
       "      <td>0</td>\n",
       "      <td>2</td>\n",
       "      <td>2.201634</td>\n",
       "      <td>41.414447</td>\n",
       "    </tr>\n",
       "    <tr>\n",
       "      <th>150</th>\n",
       "      <td>2017S006098</td>\n",
       "      <td>Sant Martí</td>\n",
       "      <td>Diagonal Mar i el Front Marítim del Poblenou</td>\n",
       "      <td>Llevant / Diagonal                            ...</td>\n",
       "      <td>Thursday</td>\n",
       "      <td>July</td>\n",
       "      <td>13</td>\n",
       "      <td>12</td>\n",
       "      <td>Morning</td>\n",
       "      <td>1</td>\n",
       "      <td>0</td>\n",
       "      <td>1</td>\n",
       "      <td>2</td>\n",
       "      <td>2.219305</td>\n",
       "      <td>41.411328</td>\n",
       "    </tr>\n",
       "    <tr>\n",
       "      <th>200</th>\n",
       "      <td>2017S004227</td>\n",
       "      <td>Ciutat Vella</td>\n",
       "      <td>Sant Pere, Santa Caterina i la Ribera</td>\n",
       "      <td>Ciutadella                                    ...</td>\n",
       "      <td>Friday</td>\n",
       "      <td>May</td>\n",
       "      <td>12</td>\n",
       "      <td>14</td>\n",
       "      <td>Afternoon</td>\n",
       "      <td>0</td>\n",
       "      <td>0</td>\n",
       "      <td>0</td>\n",
       "      <td>1</td>\n",
       "      <td>2.186597</td>\n",
       "      <td>41.388181</td>\n",
       "    </tr>\n",
       "    <tr>\n",
       "      <th>...</th>\n",
       "      <td>...</td>\n",
       "      <td>...</td>\n",
       "      <td>...</td>\n",
       "      <td>...</td>\n",
       "      <td>...</td>\n",
       "      <td>...</td>\n",
       "      <td>...</td>\n",
       "      <td>...</td>\n",
       "      <td>...</td>\n",
       "      <td>...</td>\n",
       "      <td>...</td>\n",
       "      <td>...</td>\n",
       "      <td>...</td>\n",
       "      <td>...</td>\n",
       "      <td>...</td>\n",
       "    </tr>\n",
       "    <tr>\n",
       "      <th>10100</th>\n",
       "      <td>2017S002122</td>\n",
       "      <td>Gràcia</td>\n",
       "      <td>el Camp d'en Grassot i Gràcia Nova</td>\n",
       "      <td>PI I MARGALL / Hipòlit Lázaro                 ...</td>\n",
       "      <td>Thursday</td>\n",
       "      <td>March</td>\n",
       "      <td>16</td>\n",
       "      <td>17</td>\n",
       "      <td>Afternoon</td>\n",
       "      <td>1</td>\n",
       "      <td>0</td>\n",
       "      <td>1</td>\n",
       "      <td>2</td>\n",
       "      <td>2.16352</td>\n",
       "      <td>41.407416</td>\n",
       "    </tr>\n",
       "    <tr>\n",
       "      <th>10150</th>\n",
       "      <td>2017S000028</td>\n",
       "      <td>Horta-Guinardó</td>\n",
       "      <td>la Font d'en Fargues</td>\n",
       "      <td>MAURICI VILOMARA / Montse Casanovas           ...</td>\n",
       "      <td>Monday</td>\n",
       "      <td>January</td>\n",
       "      <td>2</td>\n",
       "      <td>10</td>\n",
       "      <td>Morning</td>\n",
       "      <td>2</td>\n",
       "      <td>0</td>\n",
       "      <td>2</td>\n",
       "      <td>1</td>\n",
       "      <td>2.162445</td>\n",
       "      <td>41.423321</td>\n",
       "    </tr>\n",
       "    <tr>\n",
       "      <th>10200</th>\n",
       "      <td>2017S000167</td>\n",
       "      <td>Nou Barris</td>\n",
       "      <td>Torre Baró</td>\n",
       "      <td>AV M DÉU MONTSERRA                            ...</td>\n",
       "      <td>Sunday</td>\n",
       "      <td>January</td>\n",
       "      <td>8</td>\n",
       "      <td>5</td>\n",
       "      <td>Night</td>\n",
       "      <td>0</td>\n",
       "      <td>0</td>\n",
       "      <td>0</td>\n",
       "      <td>7</td>\n",
       "      <td>2.17468</td>\n",
       "      <td>41.422158</td>\n",
       "    </tr>\n",
       "    <tr>\n",
       "      <th>10250</th>\n",
       "      <td>2017S007678</td>\n",
       "      <td>Nou Barris</td>\n",
       "      <td>el Turó de la Peira</td>\n",
       "      <td>Cadí / Peira                                  ...</td>\n",
       "      <td>Saturday</td>\n",
       "      <td>September</td>\n",
       "      <td>16</td>\n",
       "      <td>20</td>\n",
       "      <td>Afternoon</td>\n",
       "      <td>1</td>\n",
       "      <td>0</td>\n",
       "      <td>1</td>\n",
       "      <td>2</td>\n",
       "      <td>2.169326</td>\n",
       "      <td>41.431997</td>\n",
       "    </tr>\n",
       "    <tr>\n",
       "      <th>10300</th>\n",
       "      <td>2017S005306</td>\n",
       "      <td>Sant Andreu</td>\n",
       "      <td>Sant Andreu</td>\n",
       "      <td>Gran de Sant Andreu                           ...</td>\n",
       "      <td>Saturday</td>\n",
       "      <td>June</td>\n",
       "      <td>17</td>\n",
       "      <td>9</td>\n",
       "      <td>Morning</td>\n",
       "      <td>1</td>\n",
       "      <td>0</td>\n",
       "      <td>1</td>\n",
       "      <td>1</td>\n",
       "      <td>2.188972</td>\n",
       "      <td>41.43843</td>\n",
       "    </tr>\n",
       "  </tbody>\n",
       "</table>\n",
       "<p>207 rows × 15 columns</p>\n",
       "</div>"
      ],
      "text/plain": [
       "                    Id   District Name  \\\n",
       "0      2017S008429             Unknown   \n",
       "50     2017S000869          Sant Martí   \n",
       "100    2017S005878          Sant Martí   \n",
       "150    2017S006098          Sant Martí   \n",
       "200    2017S004227        Ciutat Vella   \n",
       "...                ...             ...   \n",
       "10100  2017S002122              Gràcia   \n",
       "10150  2017S000028      Horta-Guinardó   \n",
       "10200  2017S000167          Nou Barris   \n",
       "10250  2017S007678          Nou Barris   \n",
       "10300  2017S005306         Sant Andreu   \n",
       "\n",
       "                                  Neighborhood Name  \\\n",
       "0                                           Unknown   \n",
       "50                       el Camp de l'Arpa del Clot   \n",
       "100                         Provençals del Poblenou   \n",
       "150    Diagonal Mar i el Front Marítim del Poblenou   \n",
       "200           Sant Pere, Santa Caterina i la Ribera   \n",
       "...                                             ...   \n",
       "10100            el Camp d'en Grassot i Gràcia Nova   \n",
       "10150                          la Font d'en Fargues   \n",
       "10200                                    Torre Baró   \n",
       "10250                           el Turó de la Peira   \n",
       "10300                                   Sant Andreu   \n",
       "\n",
       "                                                  Street    Weekday  \\\n",
       "0      Número 27                                     ...     Friday   \n",
       "50     AV MERIDIANA                                  ...  Wednesday   \n",
       "100    Corts Catalanes / Selva de Mar                ...  Wednesday   \n",
       "150    Llevant / Diagonal                            ...   Thursday   \n",
       "200    Ciutadella                                    ...     Friday   \n",
       "...                                                  ...        ...   \n",
       "10100  PI I MARGALL / Hipòlit Lázaro                 ...   Thursday   \n",
       "10150  MAURICI VILOMARA / Montse Casanovas           ...     Monday   \n",
       "10200  AV M DÉU MONTSERRA                            ...     Sunday   \n",
       "10250  Cadí / Peira                                  ...   Saturday   \n",
       "10300  Gran de Sant Andreu                           ...   Saturday   \n",
       "\n",
       "           Month Day Hour Part of the day Mild injuries Serious injuries  \\\n",
       "0        October  13    8         Morning             2                0   \n",
       "50      February   1   18       Afternoon             1                0   \n",
       "100         July   5   16       Afternoon             0                0   \n",
       "150         July  13   12         Morning             1                0   \n",
       "200          May  12   14       Afternoon             0                0   \n",
       "...          ...  ..  ...             ...           ...              ...   \n",
       "10100      March  16   17       Afternoon             1                0   \n",
       "10150    January   2   10         Morning             2                0   \n",
       "10200    January   8    5           Night             0                0   \n",
       "10250  September  16   20       Afternoon             1                0   \n",
       "10300       June  17    9         Morning             1                0   \n",
       "\n",
       "      Victims Vehicles involved Longitude   Latitude  \n",
       "0           2                 2  2.125624  41.340045  \n",
       "50          1                 2  2.186557  41.409004  \n",
       "100         0                 2  2.201634  41.414447  \n",
       "150         1                 2  2.219305  41.411328  \n",
       "200         0                 1  2.186597  41.388181  \n",
       "...       ...               ...       ...        ...  \n",
       "10100       1                 2   2.16352  41.407416  \n",
       "10150       2                 1  2.162445  41.423321  \n",
       "10200       0                 7   2.17468  41.422158  \n",
       "10250       1                 2  2.169326  41.431997  \n",
       "10300       1                 1  2.188972   41.43843  \n",
       "\n",
       "[207 rows x 15 columns]"
      ]
     },
     "execution_count": 27,
     "metadata": {},
     "output_type": "execute_result"
    }
   ],
   "source": [
    "df = pd.read_csv('accidents_2017.csv', chunksize=50)\n",
    "df2 = pd.concat([chunk.iloc[0] for chunk in df], axis=1)\n",
    "df2 = df2.transpose()\n",
    "df2"
   ]
  },
  {
   "cell_type": "markdown",
   "id": "39e9365f",
   "metadata": {},
   "source": [
    "### 23. How to change column values when importing csv to a dataframe?"
   ]
  },
  {
   "cell_type": "code",
   "execution_count": 28,
   "id": "80ed5785",
   "metadata": {},
   "outputs": [
    {
     "data": {
      "text/html": [
       "<div>\n",
       "<style scoped>\n",
       "    .dataframe tbody tr th:only-of-type {\n",
       "        vertical-align: middle;\n",
       "    }\n",
       "\n",
       "    .dataframe tbody tr th {\n",
       "        vertical-align: top;\n",
       "    }\n",
       "\n",
       "    .dataframe thead th {\n",
       "        text-align: right;\n",
       "    }\n",
       "</style>\n",
       "<table border=\"1\" class=\"dataframe\">\n",
       "  <thead>\n",
       "    <tr style=\"text-align: right;\">\n",
       "      <th></th>\n",
       "      <th>Year</th>\n",
       "      <th>District Code</th>\n",
       "      <th>District Name</th>\n",
       "      <th>Neighborhood Code</th>\n",
       "      <th>Neighborhood Name</th>\n",
       "      <th>Gender</th>\n",
       "      <th>Number</th>\n",
       "    </tr>\n",
       "  </thead>\n",
       "  <tbody>\n",
       "    <tr>\n",
       "      <th>0</th>\n",
       "      <td>2017</td>\n",
       "      <td>1</td>\n",
       "      <td>Ciutat Vella</td>\n",
       "      <td>1</td>\n",
       "      <td>el Raval</td>\n",
       "      <td>Boys</td>\n",
       "      <td>283</td>\n",
       "    </tr>\n",
       "    <tr>\n",
       "      <th>1</th>\n",
       "      <td>2017</td>\n",
       "      <td>1</td>\n",
       "      <td>Ciutat Vella</td>\n",
       "      <td>2</td>\n",
       "      <td>el Barri Gòtic</td>\n",
       "      <td>Boys</td>\n",
       "      <td>56</td>\n",
       "    </tr>\n",
       "    <tr>\n",
       "      <th>2</th>\n",
       "      <td>2017</td>\n",
       "      <td>1</td>\n",
       "      <td>Ciutat Vella</td>\n",
       "      <td>3</td>\n",
       "      <td>la Barceloneta</td>\n",
       "      <td>Boys</td>\n",
       "      <td>51</td>\n",
       "    </tr>\n",
       "    <tr>\n",
       "      <th>3</th>\n",
       "      <td>2017</td>\n",
       "      <td>1</td>\n",
       "      <td>Ciutat Vella</td>\n",
       "      <td>4</td>\n",
       "      <td>Sant Pere, Santa Caterina i la Ribera</td>\n",
       "      <td>Boys</td>\n",
       "      <td>90</td>\n",
       "    </tr>\n",
       "    <tr>\n",
       "      <th>4</th>\n",
       "      <td>2017</td>\n",
       "      <td>2</td>\n",
       "      <td>Eixample</td>\n",
       "      <td>5</td>\n",
       "      <td>el Fort Pienc</td>\n",
       "      <td>Boys</td>\n",
       "      <td>117</td>\n",
       "    </tr>\n",
       "    <tr>\n",
       "      <th>...</th>\n",
       "      <td>...</td>\n",
       "      <td>...</td>\n",
       "      <td>...</td>\n",
       "      <td>...</td>\n",
       "      <td>...</td>\n",
       "      <td>...</td>\n",
       "      <td>...</td>\n",
       "    </tr>\n",
       "    <tr>\n",
       "      <th>729</th>\n",
       "      <td>2013</td>\n",
       "      <td>10</td>\n",
       "      <td>Sant Martí</td>\n",
       "      <td>70</td>\n",
       "      <td>el Besòs i el Maresme</td>\n",
       "      <td>Girls</td>\n",
       "      <td>93</td>\n",
       "    </tr>\n",
       "    <tr>\n",
       "      <th>730</th>\n",
       "      <td>2013</td>\n",
       "      <td>10</td>\n",
       "      <td>Sant Martí</td>\n",
       "      <td>71</td>\n",
       "      <td>Provençals del Poblenou</td>\n",
       "      <td>Girls</td>\n",
       "      <td>95</td>\n",
       "    </tr>\n",
       "    <tr>\n",
       "      <th>731</th>\n",
       "      <td>2013</td>\n",
       "      <td>10</td>\n",
       "      <td>Sant Martí</td>\n",
       "      <td>72</td>\n",
       "      <td>Sant Martí de Provençals</td>\n",
       "      <td>Girls</td>\n",
       "      <td>97</td>\n",
       "    </tr>\n",
       "    <tr>\n",
       "      <th>732</th>\n",
       "      <td>2013</td>\n",
       "      <td>10</td>\n",
       "      <td>Sant Martí</td>\n",
       "      <td>73</td>\n",
       "      <td>la Verneda i la Pau</td>\n",
       "      <td>Girls</td>\n",
       "      <td>94</td>\n",
       "    </tr>\n",
       "    <tr>\n",
       "      <th>733</th>\n",
       "      <td>2013</td>\n",
       "      <td>99</td>\n",
       "      <td>No consta</td>\n",
       "      <td>99</td>\n",
       "      <td>No consta</td>\n",
       "      <td>Girls</td>\n",
       "      <td>2</td>\n",
       "    </tr>\n",
       "  </tbody>\n",
       "</table>\n",
       "<p>734 rows × 7 columns</p>\n",
       "</div>"
      ],
      "text/plain": [
       "     Year  District Code District Name  Neighborhood Code  \\\n",
       "0    2017              1  Ciutat Vella                  1   \n",
       "1    2017              1  Ciutat Vella                  2   \n",
       "2    2017              1  Ciutat Vella                  3   \n",
       "3    2017              1  Ciutat Vella                  4   \n",
       "4    2017              2      Eixample                  5   \n",
       "..    ...            ...           ...                ...   \n",
       "729  2013             10    Sant Martí                 70   \n",
       "730  2013             10    Sant Martí                 71   \n",
       "731  2013             10    Sant Martí                 72   \n",
       "732  2013             10    Sant Martí                 73   \n",
       "733  2013             99     No consta                 99   \n",
       "\n",
       "                         Neighborhood Name Gender  Number  \n",
       "0                                 el Raval   Boys     283  \n",
       "1                           el Barri Gòtic   Boys      56  \n",
       "2                           la Barceloneta   Boys      51  \n",
       "3    Sant Pere, Santa Caterina i la Ribera   Boys      90  \n",
       "4                            el Fort Pienc   Boys     117  \n",
       "..                                     ...    ...     ...  \n",
       "729                  el Besòs i el Maresme  Girls      93  \n",
       "730                Provençals del Poblenou  Girls      95  \n",
       "731               Sant Martí de Provençals  Girls      97  \n",
       "732                    la Verneda i la Pau  Girls      94  \n",
       "733                              No consta  Girls       2  \n",
       "\n",
       "[734 rows x 7 columns]"
      ]
     },
     "execution_count": 28,
     "metadata": {},
     "output_type": "execute_result"
    }
   ],
   "source": [
    "df = pd.read_csv('births.csv',converters={'region_code': lambda x: 'South' if float(x) > 50 else 'North'})\n",
    "df"
   ]
  },
  {
   "cell_type": "markdown",
   "id": "e5364016",
   "metadata": {},
   "source": [
    "### 24. How to import only specified columns from a csv file?"
   ]
  },
  {
   "cell_type": "code",
   "execution_count": 29,
   "id": "6dbee118",
   "metadata": {},
   "outputs": [
    {
     "name": "stdout",
     "output_type": "stream",
     "text": [
      "  Gender  Number\n",
      "0   Boys     283\n",
      "1   Boys      56\n",
      "2   Boys      51\n",
      "3   Boys      90\n",
      "4   Boys     117\n"
     ]
    }
   ],
   "source": [
    "df = pd.read_csv('births.csv', usecols=['Gender', 'Number'])\n",
    "print(df.head())"
   ]
  },
  {
   "cell_type": "markdown",
   "id": "647fa8da",
   "metadata": {},
   "source": [
    "### 25. How to rename a specific columns in a dataframe?"
   ]
  },
  {
   "cell_type": "code",
   "execution_count": 30,
   "id": "0493b1c0",
   "metadata": {},
   "outputs": [
    {
     "name": "stdout",
     "output_type": "stream",
     "text": [
      "Before Renaming!...\n",
      "Index(['Year', 'District Code', 'District Name', 'Neighborhood Code',\n",
      "       'Neighborhood Name', 'Gender', 'Number'],\n",
      "      dtype='object')\n",
      "After Renaming!...\n",
      "Index(['Year', 'District Code', 'District Name', 'Neighborhood Code',\n",
      "       'Neighborhood Name', 'Gender', 'Count'],\n",
      "      dtype='object')\n"
     ]
    }
   ],
   "source": [
    "df = pd.read_csv('births.csv')\n",
    "print(\"Before Renaming!...\")\n",
    "print(df.columns)\n",
    "df=df.rename(columns = {'Number':'Count'})\n",
    "print(\"After Renaming!...\")\n",
    "print(df.columns)"
   ]
  },
  {
   "cell_type": "markdown",
   "id": "7e30e89c",
   "metadata": {},
   "source": [
    "### 26. How to check if a dataframe has any missing values?"
   ]
  },
  {
   "cell_type": "code",
   "execution_count": 31,
   "id": "decb1fc5",
   "metadata": {},
   "outputs": [
    {
     "data": {
      "text/plain": [
       "False"
      ]
     },
     "execution_count": 31,
     "metadata": {},
     "output_type": "execute_result"
    }
   ],
   "source": [
    "df = pd.read_csv('births.csv')\n",
    "df.isnull().values.any()"
   ]
  },
  {
   "cell_type": "markdown",
   "id": "9d92570e",
   "metadata": {},
   "source": [
    "### 27. How to count the number of missing values in each column?"
   ]
  },
  {
   "cell_type": "code",
   "execution_count": 32,
   "id": "6667254c",
   "metadata": {},
   "outputs": [
    {
     "data": {
      "text/plain": [
       "0"
      ]
     },
     "execution_count": 32,
     "metadata": {},
     "output_type": "execute_result"
    }
   ],
   "source": [
    "df = pd.read_csv('deaths.csv')\n",
    "missing_col = df.apply(lambda x: x.isnull().sum())\n",
    "missing_col.argmax()"
   ]
  },
  {
   "cell_type": "markdown",
   "id": "843f7972",
   "metadata": {},
   "source": [
    "### 28. How to swap two rows of a dataframe?"
   ]
  },
  {
   "cell_type": "code",
   "execution_count": 33,
   "id": "1a01c1b3",
   "metadata": {},
   "outputs": [
    {
     "data": {
      "text/html": [
       "<div>\n",
       "<style scoped>\n",
       "    .dataframe tbody tr th:only-of-type {\n",
       "        vertical-align: middle;\n",
       "    }\n",
       "\n",
       "    .dataframe tbody tr th {\n",
       "        vertical-align: top;\n",
       "    }\n",
       "\n",
       "    .dataframe thead th {\n",
       "        text-align: right;\n",
       "    }\n",
       "</style>\n",
       "<table border=\"1\" class=\"dataframe\">\n",
       "  <thead>\n",
       "    <tr style=\"text-align: right;\">\n",
       "      <th></th>\n",
       "      <th>0</th>\n",
       "      <th>1</th>\n",
       "      <th>2</th>\n",
       "      <th>3</th>\n",
       "      <th>4</th>\n",
       "      <th>5</th>\n",
       "      <th>6</th>\n",
       "      <th>7</th>\n",
       "      <th>8</th>\n",
       "      <th>9</th>\n",
       "    </tr>\n",
       "  </thead>\n",
       "  <tbody>\n",
       "    <tr>\n",
       "      <th>0</th>\n",
       "      <td>0</td>\n",
       "      <td>1</td>\n",
       "      <td>2</td>\n",
       "      <td>3</td>\n",
       "      <td>4</td>\n",
       "      <td>5</td>\n",
       "      <td>6</td>\n",
       "      <td>7</td>\n",
       "      <td>8</td>\n",
       "      <td>9</td>\n",
       "    </tr>\n",
       "    <tr>\n",
       "      <th>1</th>\n",
       "      <td>20</td>\n",
       "      <td>21</td>\n",
       "      <td>22</td>\n",
       "      <td>23</td>\n",
       "      <td>24</td>\n",
       "      <td>25</td>\n",
       "      <td>26</td>\n",
       "      <td>27</td>\n",
       "      <td>28</td>\n",
       "      <td>29</td>\n",
       "    </tr>\n",
       "    <tr>\n",
       "      <th>2</th>\n",
       "      <td>10</td>\n",
       "      <td>11</td>\n",
       "      <td>12</td>\n",
       "      <td>13</td>\n",
       "      <td>14</td>\n",
       "      <td>15</td>\n",
       "      <td>16</td>\n",
       "      <td>17</td>\n",
       "      <td>18</td>\n",
       "      <td>19</td>\n",
       "    </tr>\n",
       "    <tr>\n",
       "      <th>3</th>\n",
       "      <td>30</td>\n",
       "      <td>31</td>\n",
       "      <td>32</td>\n",
       "      <td>33</td>\n",
       "      <td>34</td>\n",
       "      <td>35</td>\n",
       "      <td>36</td>\n",
       "      <td>37</td>\n",
       "      <td>38</td>\n",
       "      <td>39</td>\n",
       "    </tr>\n",
       "    <tr>\n",
       "      <th>4</th>\n",
       "      <td>40</td>\n",
       "      <td>41</td>\n",
       "      <td>42</td>\n",
       "      <td>43</td>\n",
       "      <td>44</td>\n",
       "      <td>45</td>\n",
       "      <td>46</td>\n",
       "      <td>47</td>\n",
       "      <td>48</td>\n",
       "      <td>49</td>\n",
       "    </tr>\n",
       "    <tr>\n",
       "      <th>5</th>\n",
       "      <td>50</td>\n",
       "      <td>51</td>\n",
       "      <td>52</td>\n",
       "      <td>53</td>\n",
       "      <td>54</td>\n",
       "      <td>55</td>\n",
       "      <td>56</td>\n",
       "      <td>57</td>\n",
       "      <td>58</td>\n",
       "      <td>59</td>\n",
       "    </tr>\n",
       "    <tr>\n",
       "      <th>6</th>\n",
       "      <td>60</td>\n",
       "      <td>61</td>\n",
       "      <td>62</td>\n",
       "      <td>63</td>\n",
       "      <td>64</td>\n",
       "      <td>65</td>\n",
       "      <td>66</td>\n",
       "      <td>67</td>\n",
       "      <td>68</td>\n",
       "      <td>69</td>\n",
       "    </tr>\n",
       "    <tr>\n",
       "      <th>7</th>\n",
       "      <td>70</td>\n",
       "      <td>71</td>\n",
       "      <td>72</td>\n",
       "      <td>73</td>\n",
       "      <td>74</td>\n",
       "      <td>75</td>\n",
       "      <td>76</td>\n",
       "      <td>77</td>\n",
       "      <td>78</td>\n",
       "      <td>79</td>\n",
       "    </tr>\n",
       "    <tr>\n",
       "      <th>8</th>\n",
       "      <td>80</td>\n",
       "      <td>81</td>\n",
       "      <td>82</td>\n",
       "      <td>83</td>\n",
       "      <td>84</td>\n",
       "      <td>85</td>\n",
       "      <td>86</td>\n",
       "      <td>87</td>\n",
       "      <td>88</td>\n",
       "      <td>89</td>\n",
       "    </tr>\n",
       "    <tr>\n",
       "      <th>9</th>\n",
       "      <td>90</td>\n",
       "      <td>91</td>\n",
       "      <td>92</td>\n",
       "      <td>93</td>\n",
       "      <td>94</td>\n",
       "      <td>95</td>\n",
       "      <td>96</td>\n",
       "      <td>97</td>\n",
       "      <td>98</td>\n",
       "      <td>99</td>\n",
       "    </tr>\n",
       "  </tbody>\n",
       "</table>\n",
       "</div>"
      ],
      "text/plain": [
       "    0   1   2   3   4   5   6   7   8   9\n",
       "0   0   1   2   3   4   5   6   7   8   9\n",
       "1  20  21  22  23  24  25  26  27  28  29\n",
       "2  10  11  12  13  14  15  16  17  18  19\n",
       "3  30  31  32  33  34  35  36  37  38  39\n",
       "4  40  41  42  43  44  45  46  47  48  49\n",
       "5  50  51  52  53  54  55  56  57  58  59\n",
       "6  60  61  62  63  64  65  66  67  68  69\n",
       "7  70  71  72  73  74  75  76  77  78  79\n",
       "8  80  81  82  83  84  85  86  87  88  89\n",
       "9  90  91  92  93  94  95  96  97  98  99"
      ]
     },
     "execution_count": 33,
     "metadata": {},
     "output_type": "execute_result"
    }
   ],
   "source": [
    "df = pd.DataFrame(np.arange(100).reshape(10, -1))\n",
    "\n",
    "def swap_two_rows(df, i1, i2):\n",
    "    a, b = df.iloc[i1, :].copy(), df.iloc[i2, :].copy()\n",
    "    df.iloc[i1, :], df.iloc[i2, :] = b, a\n",
    "    return df\n",
    "\n",
    "swap_two_rows(df, 1, 2)"
   ]
  },
  {
   "cell_type": "markdown",
   "id": "99621735",
   "metadata": {},
   "source": [
    "### 29. How to reverse the rows of a dataframe?"
   ]
  },
  {
   "cell_type": "code",
   "execution_count": 34,
   "id": "73fc4baa",
   "metadata": {},
   "outputs": [
    {
     "name": "stdout",
     "output_type": "stream",
     "text": [
      "    0   1   2   3   4\n",
      "0   0   1   2   3   4\n",
      "1   5   6   7   8   9\n",
      "2  10  11  12  13  14\n",
      "3  15  16  17  18  19\n",
      "4  20  21  22  23  24\n",
      "\n",
      "data after reversing the rows\n",
      "    0   1   2   3   4\n",
      "4  20  21  22  23  24\n",
      "3  15  16  17  18  19\n",
      "2  10  11  12  13  14\n",
      "1   5   6   7   8   9\n",
      "0   0   1   2   3   4\n"
     ]
    }
   ],
   "source": [
    "df = pd.DataFrame(np.arange(25).reshape(5, -1))\n",
    "\n",
    "print(df)\n",
    "print('\\ndata after reversing the rows')\n",
    "print(df.loc[df.index[::-1], :])"
   ]
  },
  {
   "cell_type": "markdown",
   "id": "7aa73d84",
   "metadata": {},
   "source": [
    "### 30. How to remove rows from a dataframe that are present in another dataframe?"
   ]
  },
  {
   "cell_type": "code",
   "execution_count": 35,
   "id": "f36669cc",
   "metadata": {},
   "outputs": [
    {
     "name": "stdout",
     "output_type": "stream",
     "text": [
      "data_1 : \n",
      "[[3 4 1 1]\n",
      " [3 2 4 1]\n",
      " [3 1 3 1]\n",
      " [1 2 1 2]]\n",
      "\n",
      "data_2 :\n",
      "[[4 1 4 4]\n",
      " [2 4 3 1]\n",
      " [3 2 4 1]\n",
      " [3 1 2 3]]\n"
     ]
    },
    {
     "ename": "AttributeError",
     "evalue": "'numpy.ndarray' object has no attribute 'isin'",
     "output_type": "error",
     "traceback": [
      "\u001b[1;31m---------------------------------------------------------------------------\u001b[0m",
      "\u001b[1;31mAttributeError\u001b[0m                            Traceback (most recent call last)",
      "Input \u001b[1;32mIn [35]\u001b[0m, in \u001b[0;36m<cell line: 10>\u001b[1;34m()\u001b[0m\n\u001b[0;32m      7\u001b[0m \u001b[38;5;28mprint\u001b[39m(\u001b[38;5;124m'\u001b[39m\u001b[38;5;130;01m\\n\u001b[39;00m\u001b[38;5;124mdata_2 :\u001b[39m\u001b[38;5;124m'\u001b[39m)\n\u001b[0;32m      8\u001b[0m \u001b[38;5;28mprint\u001b[39m(df2)\n\u001b[1;32m---> 10\u001b[0m \u001b[38;5;28mprint\u001b[39m(df1[\u001b[38;5;241m~\u001b[39m\u001b[43mdf1\u001b[49m\u001b[38;5;241;43m.\u001b[39;49m\u001b[43misin\u001b[49m(df2)\u001b[38;5;241m.\u001b[39mall(\u001b[38;5;241m1\u001b[39m)])\n",
      "\u001b[1;31mAttributeError\u001b[0m: 'numpy.ndarray' object has no attribute 'isin'"
     ]
    }
   ],
   "source": [
    "df1 = np.random.randint(1,5,16).reshape(4, -1)\n",
    "\n",
    "print('data_1 : ')\n",
    "print(df1)\n",
    "df2 = np.random.randint(1,5,16).reshape(4, -1)\n",
    "\n",
    "print('\\ndata_2 :')\n",
    "print(df2)\n",
    "\n",
    "print(df1[~df1.isin(df2).all(1)])"
   ]
  },
  {
   "cell_type": "markdown",
   "id": "ecddfd82",
   "metadata": {},
   "source": [
    "### 31. How to convert a series of date-strings to a timeseries?"
   ]
  },
  {
   "cell_type": "code",
   "execution_count": 36,
   "id": "3ad5f2c8",
   "metadata": {},
   "outputs": [
    {
     "data": {
      "text/plain": [
       "0   1978-01-06 00:00:00\n",
       "1   2012-01-02 00:00:00\n",
       "2   2012-03-03 00:00:00\n",
       "3   2013-04-04 00:00:00\n",
       "4   2014-05-15 00:00:00\n",
       "5   2015-06-06 12:20:00\n",
       "dtype: datetime64[ns]"
      ]
     },
     "execution_count": 36,
     "metadata": {},
     "output_type": "execute_result"
    }
   ],
   "source": [
    "dates = pd.Series(['06 Jan 1978', '20120102', '20120303', '2013/04/04', '2014-05-15', '2015-06-06T12:20'])\n",
    "from dateutil.parser import parse\n",
    "dates.map(lambda x: parse(x))"
   ]
  },
  {
   "cell_type": "markdown",
   "id": "44ac62a1",
   "metadata": {},
   "source": [
    "### 32. How to filter words that contain atleast 2 vowels from a series?"
   ]
  },
  {
   "cell_type": "code",
   "execution_count": 39,
   "id": "31826498",
   "metadata": {},
   "outputs": [
    {
     "data": {
      "text/plain": [
       "0      Narasaraopet\n",
       "2            Guntur\n",
       "3        Vijayawada\n",
       "4             India\n",
       "5    Chilakaluripet\n",
       "dtype: object"
      ]
     },
     "execution_count": 39,
     "metadata": {},
     "output_type": "execute_result"
    }
   ],
   "source": [
    "from collections import Counter\n",
    "\n",
    "a = pd.Series(['Narasaraopet', 'Guntur', 'Vijayawada', 'India','Chilakaluripet'])\n",
    "\n",
    "mask = a.map(lambda x: sum([Counter(x.lower()).get(i, 0) for i in list('aeiou')]) >= 2)\n",
    "a[mask]"
   ]
  },
  {
   "cell_type": "markdown",
   "id": "efa9b9b7",
   "metadata": {},
   "source": [
    "### 33. How to get the mean of a series grouped by another series?"
   ]
  },
  {
   "cell_type": "code",
   "execution_count": 41,
   "id": "b7d0f359",
   "metadata": {},
   "outputs": [
    {
     "name": "stdout",
     "output_type": "stream",
     "text": [
      "['venkat', 'krishna', 'satya', 'venkat', 'krishna', 'venkat', 'sai', 'sai', 'venkat', 'sai']\n",
      "[1.0, 12.0, 23.0, 34.0, 45.0, 56.0, 67.0, 78.0, 89.0, 100.0]\n"
     ]
    },
    {
     "data": {
      "text/plain": [
       "krishna    28.500000\n",
       "sai        81.666667\n",
       "satya      23.000000\n",
       "venkat     45.000000\n",
       "dtype: float64"
      ]
     },
     "execution_count": 41,
     "metadata": {},
     "output_type": "execute_result"
    }
   ],
   "source": [
    "Students_names = pd.Series(np.random.choice(['satya', 'sai', 'venkat','krishna'], 10))\n",
    "\n",
    "marks= pd.Series(np.linspace(1, 100, 10))\n",
    "\n",
    "print(Students_names.tolist())\n",
    "print(marks.tolist())\n",
    "\n",
    "marks.groupby(Students_names).mean()"
   ]
  },
  {
   "cell_type": "markdown",
   "id": "32645ce1",
   "metadata": {},
   "source": [
    "### 34. How to compute the euclidean distance between two series?"
   ]
  },
  {
   "cell_type": "code",
   "execution_count": 42,
   "id": "e61e1fe6",
   "metadata": {},
   "outputs": [
    {
     "data": {
      "text/plain": [
       "31.622776601683793"
      ]
     },
     "execution_count": 42,
     "metadata": {},
     "output_type": "execute_result"
    }
   ],
   "source": [
    "p = pd.Series([1, 2, 3, 4, 5, 6, 7, 8, 9, 10])\n",
    "q = pd.Series([11,12,13,14,15,16,17,18,19,20])\n",
    "\n",
    "sum((p - q)**2)**.5\n"
   ]
  },
  {
   "cell_type": "markdown",
   "id": "b0d97d08",
   "metadata": {},
   "source": [
    "### 35. How to get the day of month, week number, day of year and day of week from a series of date strings?"
   ]
  },
  {
   "cell_type": "code",
   "execution_count": 43,
   "id": "e0432ee1",
   "metadata": {},
   "outputs": [
    {
     "name": "stdout",
     "output_type": "stream",
     "text": [
      "Date:  [1, 16, 3, 4, 6]\n",
      "Day number of year:  [1, 320, 63, 94, 157]\n"
     ]
    }
   ],
   "source": [
    "dates = pd.Series(['01 Jan 2010', '16-11-2001', '20120303', '2013/04/04', '2015-06-06T12:20'])\n",
    "\n",
    "from dateutil.parser import parse\n",
    "temp = dates.map(lambda x: parse(x))\n",
    "\n",
    "print(\"Date: \", temp.dt.day.tolist())\n",
    "\n",
    "print(\"Day number of year: \", temp.dt.dayofyear.tolist())\n"
   ]
  },
  {
   "cell_type": "markdown",
   "id": "372a7539",
   "metadata": {},
   "source": [
    "### 36. How to convert year-month string to dates corresponding to the 4th day of the month?"
   ]
  },
  {
   "cell_type": "code",
   "execution_count": 44,
   "id": "f7877be5",
   "metadata": {},
   "outputs": [
    {
     "data": {
      "text/plain": [
       "['2020-01-04', '2021-02-04', '2022-03-04']"
      ]
     },
     "execution_count": 44,
     "metadata": {},
     "output_type": "execute_result"
    }
   ],
   "source": [
    "from dateutil.parser import parse\n",
    "\n",
    "ser = pd.Series(['Jan 2020', 'Feb 2021', 'Mar 2022'])\n",
    "\n",
    "\n",
    "ser_ts = ser.map(lambda x: parse(x))\n",
    "ser_datestr = ser_ts.dt.year.astype('str') + '-' + ser_ts.dt.month.astype('str') + '-' + '04'\n",
    "\n",
    "[parse(i).strftime('%Y-%m-%d') for i in ser_datestr]\n"
   ]
  },
  {
   "cell_type": "markdown",
   "id": "5f5c3d3d",
   "metadata": {},
   "source": [
    "### 37. How to find all the local maxima (or peaks) in a numeric series?"
   ]
  },
  {
   "cell_type": "code",
   "execution_count": 45,
   "id": "ef9f8df9",
   "metadata": {},
   "outputs": [
    {
     "name": "stdout",
     "output_type": "stream",
     "text": [
      "0    1\n",
      "1    1\n",
      "2    2\n",
      "3    4\n",
      "4    1\n",
      "5    3\n",
      "6    2\n",
      "7    2\n",
      "8    1\n",
      "9    2\n",
      "dtype: int32\n"
     ]
    },
    {
     "data": {
      "text/plain": [
       "array([3, 5], dtype=int64)"
      ]
     },
     "execution_count": 45,
     "metadata": {},
     "output_type": "execute_result"
    }
   ],
   "source": [
    "w = pd.Series(np.random.randint(1, 5, 10))\n",
    "print(w)\n",
    "y = np.diff(np.sign(np.diff(w)))\n",
    "peak_locs = np.where(y == -2)[0] + 1\n",
    "peak_locs"
   ]
  },
  {
   "cell_type": "markdown",
   "id": "068f6ba7",
   "metadata": {},
   "source": [
    "### 38. How to replace missing spaces in a string with the least frequent character?"
   ]
  },
  {
   "cell_type": "code",
   "execution_count": 46,
   "id": "6d4e0ee0",
   "metadata": {},
   "outputs": [
    {
     "name": "stdout",
     "output_type": "stream",
     "text": [
      "     6\n",
      "s    4\n",
      "f    4\n",
      "e    4\n",
      "g    3\n",
      "d    2\n",
      "b    2\n",
      "r    2\n",
      "a    2\n",
      "w    2\n",
      "h    1\n",
      "i    1\n",
      "j    1\n",
      "dtype: int64\n"
     ]
    },
    {
     "data": {
      "text/plain": [
       "'sddjsfsjbgfjgferjhejsgaeirjfbajwew'"
      ]
     },
     "execution_count": 46,
     "metadata": {},
     "output_type": "execute_result"
    }
   ],
   "source": [
    "a = pd.Series(list('sdd sfs bgf gfer he sgaeir fbajwew'))\n",
    "\n",
    "frequency = a.value_counts()\n",
    "print(frequency)\n",
    "\n",
    "least_freq = frequency.dropna().index[-1]\n",
    "\"\".join(a.replace(' ', least_freq))"
   ]
  },
  {
   "cell_type": "markdown",
   "id": "eee6ec9a",
   "metadata": {},
   "source": [
    "### 39. How to compute the autocorrelations of a numeric series?"
   ]
  },
  {
   "cell_type": "code",
   "execution_count": 47,
   "id": "50973ba5",
   "metadata": {},
   "outputs": [
    {
     "name": "stdout",
     "output_type": "stream",
     "text": [
      "[-0.18, 0.41, 0.41, -0.04, 0.15, 0.93, -0.96, 1.0]\n",
      "Lag having highest correlation:  8\n"
     ]
    }
   ],
   "source": [
    "a = pd.Series(np.arange(10) + np.random.normal(1, 5, 10))\n",
    "\n",
    "autocorrelations = [a.autocorr(i).round(2) for i in range(9)]\n",
    "print(autocorrelations[1:])\n",
    "print('Lag having highest correlation: ', np.argmax(np.abs(autocorrelations[1:]))+1)"
   ]
  },
  {
   "cell_type": "markdown",
   "id": "6c9dc2dd",
   "metadata": {},
   "source": [
    "### 40. How to set the number of rows and columns displayed in the output?"
   ]
  },
  {
   "cell_type": "code",
   "execution_count": 50,
   "id": "5252424f",
   "metadata": {},
   "outputs": [
    {
     "data": {
      "text/html": [
       "<div>\n",
       "<style scoped>\n",
       "    .dataframe tbody tr th:only-of-type {\n",
       "        vertical-align: middle;\n",
       "    }\n",
       "\n",
       "    .dataframe tbody tr th {\n",
       "        vertical-align: top;\n",
       "    }\n",
       "\n",
       "    .dataframe thead th {\n",
       "        text-align: right;\n",
       "    }\n",
       "</style>\n",
       "<table border=\"1\" class=\"dataframe\">\n",
       "  <thead>\n",
       "    <tr style=\"text-align: right;\">\n",
       "      <th></th>\n",
       "      <th>Year</th>\n",
       "      <th>District Code</th>\n",
       "      <th>...</th>\n",
       "      <th>Gender</th>\n",
       "      <th>Number</th>\n",
       "    </tr>\n",
       "  </thead>\n",
       "  <tbody>\n",
       "    <tr>\n",
       "      <th>0</th>\n",
       "      <td>2017</td>\n",
       "      <td>1</td>\n",
       "      <td>...</td>\n",
       "      <td>Boys</td>\n",
       "      <td>283</td>\n",
       "    </tr>\n",
       "    <tr>\n",
       "      <th>1</th>\n",
       "      <td>2017</td>\n",
       "      <td>1</td>\n",
       "      <td>...</td>\n",
       "      <td>Boys</td>\n",
       "      <td>56</td>\n",
       "    </tr>\n",
       "    <tr>\n",
       "      <th>...</th>\n",
       "      <td>...</td>\n",
       "      <td>...</td>\n",
       "      <td>...</td>\n",
       "      <td>...</td>\n",
       "      <td>...</td>\n",
       "    </tr>\n",
       "    <tr>\n",
       "      <th>732</th>\n",
       "      <td>2013</td>\n",
       "      <td>10</td>\n",
       "      <td>...</td>\n",
       "      <td>Girls</td>\n",
       "      <td>94</td>\n",
       "    </tr>\n",
       "    <tr>\n",
       "      <th>733</th>\n",
       "      <td>2013</td>\n",
       "      <td>99</td>\n",
       "      <td>...</td>\n",
       "      <td>Girls</td>\n",
       "      <td>2</td>\n",
       "    </tr>\n",
       "  </tbody>\n",
       "</table>\n",
       "<p>734 rows × 7 columns</p>\n",
       "</div>"
      ],
      "text/plain": [
       "     Year  District Code  ... Gender  Number\n",
       "0    2017              1  ...   Boys     283\n",
       "1    2017              1  ...   Boys      56\n",
       "..    ...            ...  ...    ...     ...\n",
       "732  2013             10  ...  Girls      94\n",
       "733  2013             99  ...  Girls       2\n",
       "\n",
       "[734 rows x 7 columns]"
      ]
     },
     "execution_count": 50,
     "metadata": {},
     "output_type": "execute_result"
    }
   ],
   "source": [
    "df = pd.read_csv('births.csv')\n",
    "\n",
    "pd.set_option('display.max_columns', 5)\n",
    "pd.set_option('display.max_rows', 5)\n",
    "\n",
    "df"
   ]
  },
  {
   "cell_type": "markdown",
   "id": "6a2ac7c2",
   "metadata": {},
   "source": [
    "### 41. How to format all the values in a dataframe as percentages?"
   ]
  },
  {
   "cell_type": "code",
   "execution_count": 51,
   "id": "8dbe446a",
   "metadata": {},
   "outputs": [
    {
     "data": {
      "text/html": [
       "<style type=\"text/css\">\n",
       "</style>\n",
       "<table id=\"T_97839\">\n",
       "  <thead>\n",
       "    <tr>\n",
       "      <th class=\"blank level0\" >&nbsp;</th>\n",
       "      <th id=\"T_97839_level0_col0\" class=\"col_heading level0 col0\" >random_percentages</th>\n",
       "    </tr>\n",
       "  </thead>\n",
       "  <tbody>\n",
       "    <tr>\n",
       "      <th id=\"T_97839_level0_row0\" class=\"row_heading level0 row0\" >0</th>\n",
       "      <td id=\"T_97839_row0_col0\" class=\"data row0 col0\" >97.76015%</td>\n",
       "    </tr>\n",
       "    <tr>\n",
       "      <th id=\"T_97839_level0_row1\" class=\"row_heading level0 row1\" >1</th>\n",
       "      <td id=\"T_97839_row1_col0\" class=\"data row1 col0\" >24.04956%</td>\n",
       "    </tr>\n",
       "    <tr>\n",
       "      <th id=\"T_97839_level0_row2\" class=\"row_heading level0 row2\" >2</th>\n",
       "      <td id=\"T_97839_row2_col0\" class=\"data row2 col0\" >21.05325%</td>\n",
       "    </tr>\n",
       "    <tr>\n",
       "      <th id=\"T_97839_level0_row3\" class=\"row_heading level0 row3\" >3</th>\n",
       "      <td id=\"T_97839_row3_col0\" class=\"data row3 col0\" >10.53528%</td>\n",
       "    </tr>\n",
       "    <tr>\n",
       "      <th id=\"T_97839_level0_row4\" class=\"row_heading level0 row4\" >4</th>\n",
       "      <td id=\"T_97839_row4_col0\" class=\"data row4 col0\" >31.74171%</td>\n",
       "    </tr>\n",
       "    <tr>\n",
       "      <th id=\"T_97839_level0_row5\" class=\"row_heading level0 row5\" >5</th>\n",
       "      <td id=\"T_97839_row5_col0\" class=\"data row5 col0\" >6.59748%</td>\n",
       "    </tr>\n",
       "    <tr>\n",
       "      <th id=\"T_97839_level0_row6\" class=\"row_heading level0 row6\" >6</th>\n",
       "      <td id=\"T_97839_row6_col0\" class=\"data row6 col0\" >53.26991%</td>\n",
       "    </tr>\n",
       "    <tr>\n",
       "      <th id=\"T_97839_level0_row7\" class=\"row_heading level0 row7\" >7</th>\n",
       "      <td id=\"T_97839_row7_col0\" class=\"data row7 col0\" >47.84759%</td>\n",
       "    </tr>\n",
       "    <tr>\n",
       "      <th id=\"T_97839_level0_row8\" class=\"row_heading level0 row8\" >8</th>\n",
       "      <td id=\"T_97839_row8_col0\" class=\"data row8 col0\" >27.25552%</td>\n",
       "    </tr>\n",
       "    <tr>\n",
       "      <th id=\"T_97839_level0_row9\" class=\"row_heading level0 row9\" >9</th>\n",
       "      <td id=\"T_97839_row9_col0\" class=\"data row9 col0\" >86.17833%</td>\n",
       "    </tr>\n",
       "  </tbody>\n",
       "</table>\n"
      ],
      "text/plain": [
       "<pandas.io.formats.style.Styler at 0x220bc409af0>"
      ]
     },
     "execution_count": 51,
     "metadata": {},
     "output_type": "execute_result"
    }
   ],
   "source": [
    "df = pd.DataFrame(np.random.random(10), columns=['random_percentages'])\n",
    "\n",
    "out = df.style.format({'random_percentages': '{0:.5%}'.format,})\n",
    "\n",
    "out"
   ]
  },
  {
   "cell_type": "markdown",
   "id": "995da901",
   "metadata": {},
   "source": [
    "### 42. How to filter every nth row in a dataframe?"
   ]
  },
  {
   "cell_type": "code",
   "execution_count": 52,
   "id": "d1a50270",
   "metadata": {},
   "outputs": [
    {
     "name": "stdout",
     "output_type": "stream",
     "text": [
      "     District Code Gender  Number\n",
      "0                1   Boys     283\n",
      "3                1   Boys      90\n",
      "..             ...    ...     ...\n",
      "729             10  Girls      93\n",
      "732             10  Girls      94\n",
      "\n",
      "[245 rows x 3 columns]\n"
     ]
    }
   ],
   "source": [
    "df = pd.read_csv('births.csv')\n",
    "print(df.iloc[::3, :][['District Code', 'Gender', 'Number']])"
   ]
  },
  {
   "cell_type": "markdown",
   "id": "04ddb883",
   "metadata": {},
   "source": [
    "### 43. How to get the row number of the nth largest value in a column?"
   ]
  },
  {
   "cell_type": "code",
   "execution_count": 60,
   "id": "e491f7d3",
   "metadata": {},
   "outputs": [
    {
     "data": {
      "text/plain": [
       "7"
      ]
     },
     "execution_count": 60,
     "metadata": {},
     "output_type": "execute_result"
    }
   ],
   "source": [
    "df = pd.DataFrame(np.random.randint(1, 30, 30).reshape(10,-1), columns=list('abc'))\n",
    "\n",
    "n = 9\n",
    "df['a'].argsort()[::-1][n]\n",
    "\n",
    "\n"
   ]
  },
  {
   "cell_type": "markdown",
   "id": "a89f5329",
   "metadata": {},
   "source": [
    "### 44. How to get the positions where values of two columns match?"
   ]
  },
  {
   "cell_type": "code",
   "execution_count": 61,
   "id": "fc9eed3a",
   "metadata": {},
   "outputs": [
    {
     "name": "stdout",
     "output_type": "stream",
     "text": [
      "data_1 : \n",
      "[[2 2 2 4]\n",
      " [3 1 1 3]\n",
      " [3 4 3 4]\n",
      " [1 4 3 1]]\n",
      "\n",
      "data_2 :\n",
      "[[3 4 1 4]\n",
      " [4 1 3 1]\n",
      " [4 2 4 1]\n",
      " [4 3 2 3]]\n"
     ]
    },
    {
     "data": {
      "text/plain": [
       "(array([0, 1], dtype=int64), array([3, 1], dtype=int64))"
      ]
     },
     "execution_count": 61,
     "metadata": {},
     "output_type": "execute_result"
    }
   ],
   "source": [
    "df1 = np.random.randint(1,5,16).reshape(4, -1)\n",
    "\n",
    "print('data_1 : ')\n",
    "print(df1)\n",
    "df2 = np.random.randint(1,5,16).reshape(4, -1)\n",
    "\n",
    "print('\\ndata_2 :')\n",
    "print(df2)\n",
    "\n",
    "np.where(df1 == df2)"
   ]
  },
  {
   "cell_type": "markdown",
   "id": "17029ad7",
   "metadata": {},
   "source": [
    "### 45. How to get the frequency of unique values in the entire dataframe?"
   ]
  },
  {
   "cell_type": "code",
   "execution_count": 62,
   "id": "ea16ab9d",
   "metadata": {},
   "outputs": [
    {
     "name": "stdout",
     "output_type": "stream",
     "text": [
      "   0  1  2  3\n",
      "0  9  2  6  8\n",
      "1  9  4  9  4\n",
      "2  1  5  5  5\n",
      "3  1  1  8  4\n",
      "4  8  7  3  9\n"
     ]
    },
    {
     "data": {
      "text/plain": [
       "9    4\n",
       "8    3\n",
       "    ..\n",
       "7    1\n",
       "3    1\n",
       "Length: 9, dtype: int64"
      ]
     },
     "execution_count": 62,
     "metadata": {},
     "output_type": "execute_result"
    }
   ],
   "source": [
    "df = pd.DataFrame(np.random.randint(1, 10, 20).reshape(-1, 4))\n",
    "\n",
    "print(df)\n",
    "\n",
    "pd.value_counts(df.values.ravel())"
   ]
  },
  {
   "cell_type": "markdown",
   "id": "c110d2fa",
   "metadata": {},
   "source": [
    "### 46. How to replace both the diagonals of dataframe with 0?"
   ]
  },
  {
   "cell_type": "code",
   "execution_count": 63,
   "id": "09651579",
   "metadata": {},
   "outputs": [
    {
     "name": "stdout",
     "output_type": "stream",
     "text": [
      "   0  1  2\n",
      "0  2  1  3\n",
      "1  2  4  3\n",
      "2  2  2  1\n",
      "\n",
      "matrix after making the diagnol elements o :\n",
      "   0  1  2\n",
      "0  0  1  0\n",
      "1  2  0  3\n",
      "2  0  2  0\n"
     ]
    }
   ],
   "source": [
    "df = pd.DataFrame(np.random.randint(1,5,9).reshape(3, -1))\n",
    "\n",
    "print(df)\n",
    "\n",
    "for i in range(df.shape[0]):\n",
    "    df.iat[i, i] = 0\n",
    "    df.iat[df.shape[0]-i-1, i] = 0\n",
    "    \n",
    "print('\\nmatrix after making the diagnol elements o :' )\n",
    "print(df)"
   ]
  }
 ],
 "metadata": {
  "kernelspec": {
   "display_name": "Python 3 (ipykernel)",
   "language": "python",
   "name": "python3"
  },
  "language_info": {
   "codemirror_mode": {
    "name": "ipython",
    "version": 3
   },
   "file_extension": ".py",
   "mimetype": "text/x-python",
   "name": "python",
   "nbconvert_exporter": "python",
   "pygments_lexer": "ipython3",
   "version": "3.9.13"
  }
 },
 "nbformat": 4,
 "nbformat_minor": 5
}
